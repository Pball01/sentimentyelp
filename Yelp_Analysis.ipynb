{
 "cells": [
  {
   "cell_type": "code",
   "execution_count": 1,
   "metadata": {},
   "outputs": [
    {
     "name": "stderr",
     "output_type": "stream",
     "text": [
      "[nltk_data] Downloading package punkt to\n",
      "[nltk_data]     /Users/priankaball/nltk_data...\n",
      "[nltk_data]   Package punkt is already up-to-date!\n",
      "[nltk_data] Downloading package stopwords to\n",
      "[nltk_data]     /Users/priankaball/nltk_data...\n",
      "[nltk_data]   Package stopwords is already up-to-date!\n",
      "/usr/local/lib/python3.8/site-packages/sklearn/utils/deprecation.py:143: FutureWarning: The sklearn.feature_extraction.stop_words module is  deprecated in version 0.22 and will be removed in version 0.24. The corresponding classes / functions should instead be imported from sklearn.feature_extraction.text. Anything that cannot be imported from sklearn.feature_extraction.text is now part of the private API.\n",
      "  warnings.warn(message, FutureWarning)\n"
     ]
    }
   ],
   "source": [
    "import pandas as pd\n",
    "import nltk # imports the natural language toolkit\n",
    "nltk.download('punkt')\n",
    "nltk.download('stopwords')\n",
    "import numpy  as np\n",
    "import string\n",
    "import plotly\n",
    "from nltk.stem import PorterStemmer \n",
    "import matplotlib.pyplot as plt\n",
    "from wordcloud import WordCloud\n",
    "from collections import Counter\n",
    "import seaborn as sns\n",
    "import matplotlib.pyplot as plt\n",
    "from pylab import rcParams\n",
    "from langdetect import detect_langs\n",
    "from nltk.corpus import stopwords\n",
    "from sklearn.feature_extraction.stop_words import ENGLISH_STOP_WORDS\n",
    "from sklearn.pipeline import Pipeline\n",
    "from sklearn.feature_extraction.text import TfidfTransformer"
   ]
  },
  {
   "cell_type": "markdown",
   "metadata": {},
   "source": [
    "## Data Exploration"
   ]
  },
  {
   "cell_type": "code",
   "execution_count": 102,
   "metadata": {},
   "outputs": [],
   "source": [
    "import json\n",
    "\n",
    "def load_rows(filepath, nrows = None):\n",
    "    with open(filepath) as json_file:\n",
    "        count = 0\n",
    "        objs = []\n",
    "        line = json_file.readline()\n",
    "        while (nrows is None or count < nrows) and line:\n",
    "            count += 1\n",
    "            obj = json.loads(line)\n",
    "            objs.append(obj)\n",
    "            line = json_file.readline()\n",
    "        return pd.DataFrame(objs)"
   ]
  },
  {
   "cell_type": "code",
   "execution_count": 103,
   "metadata": {},
   "outputs": [
    {
     "name": "stdout",
     "output_type": "stream",
     "text": [
      "Business objects loaded. Count = 10000\n"
     ]
    }
   ],
   "source": [
    "business = load_rows('yelp_academic_dataset_business.json',10000)\n",
    "print('Business objects loaded. Count = {}'.format(business.shape[0]))"
   ]
  },
  {
   "cell_type": "code",
   "execution_count": 104,
   "metadata": {},
   "outputs": [
    {
     "name": "stdout",
     "output_type": "stream",
     "text": [
      "checkin objects loaded. Count = 10000\n"
     ]
    }
   ],
   "source": [
    "review = load_rows('yelp_academic_dataset_review.json',10000)\n",
    "print('checkin objects loaded. Count = {}'.format(review.shape[0]))"
   ]
  },
  {
   "cell_type": "code",
   "execution_count": 105,
   "metadata": {},
   "outputs": [
    {
     "data": {
      "text/plain": [
       "Index(['business_id', 'name', 'address', 'city', 'state', 'postal_code',\n",
       "       'latitude', 'longitude', 'stars', 'review_count', 'is_open',\n",
       "       'attributes', 'categories', 'hours'],\n",
       "      dtype='object')"
      ]
     },
     "execution_count": 105,
     "metadata": {},
     "output_type": "execute_result"
    }
   ],
   "source": [
    "business.columns"
   ]
  },
  {
   "cell_type": "code",
   "execution_count": 106,
   "metadata": {},
   "outputs": [
    {
     "data": {
      "text/plain": [
       "Index(['review_id', 'user_id', 'business_id', 'stars', 'useful', 'funny',\n",
       "       'cool', 'text', 'date'],\n",
       "      dtype='object')"
      ]
     },
     "execution_count": 106,
     "metadata": {},
     "output_type": "execute_result"
    }
   ],
   "source": [
    "review.columns"
   ]
  },
  {
   "cell_type": "code",
   "execution_count": 107,
   "metadata": {},
   "outputs": [],
   "source": [
    "#keeping business that are still open \n",
    "# 1 = open, 0 = closed\n",
    "business = business[business['is_open']==1]"
   ]
  },
  {
   "cell_type": "code",
   "execution_count": 108,
   "metadata": {},
   "outputs": [],
   "source": [
    "#removing columns that might not be relevant\n",
    "business = business.drop(['hours','is_open','address', 'postal_code', 'attributes', 'review_count', 'city', 'latitude','longitude'], axis=1)"
   ]
  },
  {
   "cell_type": "code",
   "execution_count": 109,
   "metadata": {},
   "outputs": [
    {
     "data": {
      "text/plain": [
       "Index(['business_id', 'name', 'state', 'stars', 'categories'], dtype='object')"
      ]
     },
     "execution_count": 109,
     "metadata": {},
     "output_type": "execute_result"
    }
   ],
   "source": [
    "business.columns"
   ]
  },
  {
   "cell_type": "code",
   "execution_count": 110,
   "metadata": {},
   "outputs": [
    {
     "data": {
      "text/plain": [
       "<AxesSubplot:>"
      ]
     },
     "execution_count": 110,
     "metadata": {},
     "output_type": "execute_result"
    },
    {
     "data": {
      "image/png": "[encoded data removed]",
      "text/plain": [
       "<Figure size 576x360 with 1 Axes>"
      ]
     },
     "metadata": {},
     "output_type": "display_data"
    }
   ],
   "source": [
    "business['state'].hist()"
   ]
  },
  {
   "cell_type": "code",
   "execution_count": 111,
   "metadata": {},
   "outputs": [
    {
     "data": {
      "text/plain": [
       "business_id     object\n",
       "name            object\n",
       "state           object\n",
       "stars          float64\n",
       "categories      object\n",
       "dtype: object"
      ]
     },
     "execution_count": 111,
     "metadata": {},
     "output_type": "execute_result"
    }
   ],
   "source": [
    "business.dtypes"
   ]
  },
  {
   "cell_type": "code",
   "execution_count": 112,
   "metadata": {},
   "outputs": [],
   "source": [
    "#filter for restaurnats\n",
    "business_res = business[business['categories'].str.contains(\n",
    "              'Restaurants',\n",
    "              case=False, na=False)]"
   ]
  },
  {
   "cell_type": "code",
   "execution_count": 113,
   "metadata": {},
   "outputs": [
    {
     "data": {
      "text/plain": [
       "business_id    2048\n",
       "name           1725\n",
       "state            12\n",
       "stars             9\n",
       "categories     1519\n",
       "dtype: int64"
      ]
     },
     "execution_count": 113,
     "metadata": {},
     "output_type": "execute_result"
    }
   ],
   "source": [
    "business_res.nunique()"
   ]
  },
  {
   "cell_type": "code",
   "execution_count": 114,
   "metadata": {},
   "outputs": [
    {
     "data": {
      "text/plain": [
       "array(['Ethnic Food, Food Trucks, Specialty Food, Imported Food, Argentine, Food, Restaurants, Empanadas',\n",
       "       'Restaurants, Cheesesteaks, Poutineries',\n",
       "       'Japanese, Fast Food, Food Court, Restaurants', ...,\n",
       "       'Sandwiches, Restaurants, Food, Donuts, Coffee & Tea',\n",
       "       'Restaurants, Pizza, Chicken Wings, Food, Desserts',\n",
       "       'Restaurants, Indian, Nightlife, Pakistani, Hookah Bars, Mediterranean, Bars'],\n",
       "      dtype=object)"
      ]
     },
     "execution_count": 114,
     "metadata": {},
     "output_type": "execute_result"
    }
   ],
   "source": [
    "business_res['categories'].unique()"
   ]
  },
  {
   "cell_type": "code",
   "execution_count": 115,
   "metadata": {},
   "outputs": [
    {
     "data": {
      "text/plain": [
       "array(['Ethnic Food, Food Trucks, Specialty Food, Imported Food, Argentine, Food, Restaurants, Empanadas',\n",
       "       'Restaurants, Cheesesteaks, Poutineries',\n",
       "       'Japanese, Fast Food, Food Court, Restaurants', ...,\n",
       "       'Sandwiches, Restaurants, Food, Donuts, Coffee & Tea',\n",
       "       'Restaurants, Pizza, Chicken Wings, Food, Desserts',\n",
       "       'Restaurants, Indian, Nightlife, Pakistani, Hookah Bars, Mediterranean, Bars'],\n",
       "      dtype=object)"
      ]
     },
     "execution_count": 115,
     "metadata": {},
     "output_type": "execute_result"
    }
   ],
   "source": [
    "business_res['categories'].unique()"
   ]
  },
  {
   "cell_type": "code",
   "execution_count": 116,
   "metadata": {},
   "outputs": [
    {
     "data": {
      "text/plain": [
       "1519"
      ]
     },
     "execution_count": 116,
     "metadata": {},
     "output_type": "execute_result"
    }
   ],
   "source": [
    "business_res['categories'].nunique()"
   ]
  },
  {
   "cell_type": "code",
   "execution_count": 117,
   "metadata": {},
   "outputs": [],
   "source": [
    "business_res = business_res.rename(columns={'stars': 'business_stars'})"
   ]
  },
  {
   "cell_type": "code",
   "execution_count": 118,
   "metadata": {},
   "outputs": [],
   "source": [
    "#business have multiple categories. Each category is each row\n",
    "df_explode = business.assign(categories = business.categories\n",
    "                         .str.split(', ')).explode('categories')"
   ]
  },
  {
   "cell_type": "code",
   "execution_count": 119,
   "metadata": {},
   "outputs": [
    {
     "data": {
      "text/plain": [
       "array(['Active Life', 'Gun/Rifle Ranges', 'Guns & Ammo', ...,\n",
       "       'Concept Shops', 'Party Bike Rentals', 'Bangladeshi'], dtype=object)"
      ]
     },
     "execution_count": 119,
     "metadata": {},
     "output_type": "execute_result"
    }
   ],
   "source": [
    "df_explode['categories'].unique()"
   ]
  },
  {
   "cell_type": "code",
   "execution_count": 120,
   "metadata": {},
   "outputs": [
    {
     "data": {
      "text/plain": [
       "1054"
      ]
     },
     "execution_count": 120,
     "metadata": {},
     "output_type": "execute_result"
    }
   ],
   "source": [
    "df_explode['categories'].nunique()"
   ]
  },
  {
   "cell_type": "code",
   "execution_count": 121,
   "metadata": {},
   "outputs": [
    {
     "data": {
      "text/plain": [
       "Restaurants                  2048\n",
       "Shopping                     1338\n",
       "Food                         1152\n",
       "Home Services                 962\n",
       "Health & Medical              832\n",
       "Beauty & Spas                 757\n",
       "Local Services                707\n",
       "Automotive                    617\n",
       "Nightlife                     467\n",
       "Event Planning & Services     465\n",
       "Name: categories, dtype: int64"
      ]
     },
     "execution_count": 121,
     "metadata": {},
     "output_type": "execute_result"
    }
   ],
   "source": [
    "df_explode.categories.value_counts().head(10)# most of the category is restaurant"
   ]
  },
  {
   "cell_type": "code",
   "execution_count": 122,
   "metadata": {},
   "outputs": [
    {
     "data": {
      "text/plain": [
       "Restaurants    2048\n",
       "Name: categories, dtype: int64"
      ]
     },
     "execution_count": 122,
     "metadata": {},
     "output_type": "execute_result"
    }
   ],
   "source": [
    "df_explode[df_explode.categories.str.contains('Restaurants',\n",
    "                      case=True,na=False)].categories.value_counts()"
   ]
  },
  {
   "cell_type": "code",
   "execution_count": 123,
   "metadata": {},
   "outputs": [
    {
     "data": {
      "text/html": [
       "<div>\n",
       "<style scoped>\n",
       "    .dataframe tbody tr th:only-of-type {\n",
       "        vertical-align: middle;\n",
       "    }\n",
       "\n",
       "    .dataframe tbody tr th {\n",
       "        vertical-align: top;\n",
       "    }\n",
       "\n",
       "    .dataframe thead th {\n",
       "        text-align: right;\n",
       "    }\n",
       "</style>\n",
       "<table border=\"1\" class=\"dataframe\">\n",
       "  <thead>\n",
       "    <tr style=\"text-align: right;\">\n",
       "      <th></th>\n",
       "      <th>business_id</th>\n",
       "      <th>name</th>\n",
       "      <th>state</th>\n",
       "      <th>stars</th>\n",
       "      <th>categories</th>\n",
       "    </tr>\n",
       "  </thead>\n",
       "  <tbody>\n",
       "    <tr>\n",
       "      <th>8</th>\n",
       "      <td>pQeaRpvuhoEqudo3uymHIQ</td>\n",
       "      <td>The Empanadas House</td>\n",
       "      <td>IL</td>\n",
       "      <td>4.5</td>\n",
       "      <td>Restaurants</td>\n",
       "    </tr>\n",
       "    <tr>\n",
       "      <th>24</th>\n",
       "      <td>eBEfgOPG7pvFhb2wcG9I7w</td>\n",
       "      <td>Philthy Phillys</td>\n",
       "      <td>ON</td>\n",
       "      <td>4.5</td>\n",
       "      <td>Restaurants</td>\n",
       "    </tr>\n",
       "    <tr>\n",
       "      <th>25</th>\n",
       "      <td>lu7vtrp_bE9PnxWfA8g4Pg</td>\n",
       "      <td>Banzai Sushi</td>\n",
       "      <td>ON</td>\n",
       "      <td>4.5</td>\n",
       "      <td>Restaurants</td>\n",
       "    </tr>\n",
       "    <tr>\n",
       "      <th>30</th>\n",
       "      <td>9sRGfSVEfLhN_km60YruTA</td>\n",
       "      <td>Apadana Restaurant</td>\n",
       "      <td>ON</td>\n",
       "      <td>3.0</td>\n",
       "      <td>Restaurants</td>\n",
       "    </tr>\n",
       "    <tr>\n",
       "      <th>33</th>\n",
       "      <td>vjTVxnsQEZ34XjYNS-XUpA</td>\n",
       "      <td>Wetzel's Pretzels</td>\n",
       "      <td>AZ</td>\n",
       "      <td>4.0</td>\n",
       "      <td>Restaurants</td>\n",
       "    </tr>\n",
       "    <tr>\n",
       "      <th>...</th>\n",
       "      <td>...</td>\n",
       "      <td>...</td>\n",
       "      <td>...</td>\n",
       "      <td>...</td>\n",
       "      <td>...</td>\n",
       "    </tr>\n",
       "    <tr>\n",
       "      <th>9988</th>\n",
       "      <td>id_4VpPvd3zR0q_qhasUNQ</td>\n",
       "      <td>Dunkin'</td>\n",
       "      <td>PA</td>\n",
       "      <td>1.5</td>\n",
       "      <td>Restaurants</td>\n",
       "    </tr>\n",
       "    <tr>\n",
       "      <th>9989</th>\n",
       "      <td>qCSWNJ2ClIaO5XTfzsiYFA</td>\n",
       "      <td>El Valle Mexican Restaurant</td>\n",
       "      <td>NC</td>\n",
       "      <td>3.5</td>\n",
       "      <td>Restaurants</td>\n",
       "    </tr>\n",
       "    <tr>\n",
       "      <th>9990</th>\n",
       "      <td>Mp50uBWoZAXqSjaIZB7iow</td>\n",
       "      <td>Del Taco</td>\n",
       "      <td>AZ</td>\n",
       "      <td>2.5</td>\n",
       "      <td>Restaurants</td>\n",
       "    </tr>\n",
       "    <tr>\n",
       "      <th>9993</th>\n",
       "      <td>Qt3hE9Ozypa2uJkEaRHJ8w</td>\n",
       "      <td>Papa John's</td>\n",
       "      <td>AB</td>\n",
       "      <td>1.5</td>\n",
       "      <td>Restaurants</td>\n",
       "    </tr>\n",
       "    <tr>\n",
       "      <th>9994</th>\n",
       "      <td>h3_Jnt_y0VPaC5x5kCWY0w</td>\n",
       "      <td>Raja Foods</td>\n",
       "      <td>AB</td>\n",
       "      <td>3.5</td>\n",
       "      <td>Restaurants</td>\n",
       "    </tr>\n",
       "  </tbody>\n",
       "</table>\n",
       "<p>2048 rows × 5 columns</p>\n",
       "</div>"
      ],
      "text/plain": [
       "                 business_id                         name state  stars  \\\n",
       "8     pQeaRpvuhoEqudo3uymHIQ          The Empanadas House    IL    4.5   \n",
       "24    eBEfgOPG7pvFhb2wcG9I7w              Philthy Phillys    ON    4.5   \n",
       "25    lu7vtrp_bE9PnxWfA8g4Pg                 Banzai Sushi    ON    4.5   \n",
       "30    9sRGfSVEfLhN_km60YruTA           Apadana Restaurant    ON    3.0   \n",
       "33    vjTVxnsQEZ34XjYNS-XUpA            Wetzel's Pretzels    AZ    4.0   \n",
       "...                      ...                          ...   ...    ...   \n",
       "9988  id_4VpPvd3zR0q_qhasUNQ                      Dunkin'    PA    1.5   \n",
       "9989  qCSWNJ2ClIaO5XTfzsiYFA  El Valle Mexican Restaurant    NC    3.5   \n",
       "9990  Mp50uBWoZAXqSjaIZB7iow                     Del Taco    AZ    2.5   \n",
       "9993  Qt3hE9Ozypa2uJkEaRHJ8w                  Papa John's    AB    1.5   \n",
       "9994  h3_Jnt_y0VPaC5x5kCWY0w                   Raja Foods    AB    3.5   \n",
       "\n",
       "       categories  \n",
       "8     Restaurants  \n",
       "24    Restaurants  \n",
       "25    Restaurants  \n",
       "30    Restaurants  \n",
       "33    Restaurants  \n",
       "...           ...  \n",
       "9988  Restaurants  \n",
       "9989  Restaurants  \n",
       "9990  Restaurants  \n",
       "9993  Restaurants  \n",
       "9994  Restaurants  \n",
       "\n",
       "[2048 rows x 5 columns]"
      ]
     },
     "execution_count": 123,
     "metadata": {},
     "output_type": "execute_result"
    }
   ],
   "source": [
    "df_explode[df_explode.categories.str.contains('Restaurants',\n",
    "                      case=True,na=False)]"
   ]
  },
  {
   "cell_type": "code",
   "execution_count": 124,
   "metadata": {},
   "outputs": [
    {
     "data": {
      "text/plain": [
       "review_id       object\n",
       "user_id         object\n",
       "business_id     object\n",
       "stars          float64\n",
       "useful           int64\n",
       "funny            int64\n",
       "cool             int64\n",
       "text            object\n",
       "date            object\n",
       "dtype: object"
      ]
     },
     "execution_count": 124,
     "metadata": {},
     "output_type": "execute_result"
    }
   ],
   "source": [
    "review.dtypes"
   ]
  },
  {
   "cell_type": "code",
   "execution_count": 125,
   "metadata": {},
   "outputs": [],
   "source": [
    "#removing columns that might not be relevant\n",
    "review = review.drop(['useful','user_id','funny', 'cool', 'date'], axis=1)"
   ]
  },
  {
   "cell_type": "code",
   "execution_count": 126,
   "metadata": {},
   "outputs": [
    {
     "data": {
      "text/html": [
       "<div>\n",
       "<style scoped>\n",
       "    .dataframe tbody tr th:only-of-type {\n",
       "        vertical-align: middle;\n",
       "    }\n",
       "\n",
       "    .dataframe tbody tr th {\n",
       "        vertical-align: top;\n",
       "    }\n",
       "\n",
       "    .dataframe thead th {\n",
       "        text-align: right;\n",
       "    }\n",
       "</style>\n",
       "<table border=\"1\" class=\"dataframe\">\n",
       "  <thead>\n",
       "    <tr style=\"text-align: right;\">\n",
       "      <th></th>\n",
       "      <th>review_id</th>\n",
       "      <th>business_id</th>\n",
       "      <th>stars</th>\n",
       "      <th>text</th>\n",
       "    </tr>\n",
       "  </thead>\n",
       "  <tbody>\n",
       "    <tr>\n",
       "      <th>0</th>\n",
       "      <td>xQY8N_XvtGbearJ5X4QryQ</td>\n",
       "      <td>-MhfebM0QIsKt87iDN-FNw</td>\n",
       "      <td>2.0</td>\n",
       "      <td>As someone who has worked with many museums, I...</td>\n",
       "    </tr>\n",
       "    <tr>\n",
       "      <th>1</th>\n",
       "      <td>UmFMZ8PyXZTY2QcwzsfQYA</td>\n",
       "      <td>lbrU8StCq3yDfr-QMnGrmQ</td>\n",
       "      <td>1.0</td>\n",
       "      <td>I am actually horrified this place is still in...</td>\n",
       "    </tr>\n",
       "    <tr>\n",
       "      <th>2</th>\n",
       "      <td>LG2ZaYiOgpr2DK_90pYjNw</td>\n",
       "      <td>HQl28KMwrEKHqhFrrDqVNQ</td>\n",
       "      <td>5.0</td>\n",
       "      <td>I love Deagan's. I do. I really do. The atmosp...</td>\n",
       "    </tr>\n",
       "    <tr>\n",
       "      <th>3</th>\n",
       "      <td>i6g_oA9Yf9Y31qt0wibXpw</td>\n",
       "      <td>5JxlZaqCnk1MnbgRirs40Q</td>\n",
       "      <td>1.0</td>\n",
       "      <td>Dismal, lukewarm, defrosted-tasting \"TexMex\" g...</td>\n",
       "    </tr>\n",
       "    <tr>\n",
       "      <th>4</th>\n",
       "      <td>6TdNDKywdbjoTkizeMce8A</td>\n",
       "      <td>IS4cv902ykd8wj1TR0N3-A</td>\n",
       "      <td>4.0</td>\n",
       "      <td>Oh happy day, finally have a Canes near my cas...</td>\n",
       "    </tr>\n",
       "  </tbody>\n",
       "</table>\n",
       "</div>"
      ],
      "text/plain": [
       "                review_id             business_id  stars  \\\n",
       "0  xQY8N_XvtGbearJ5X4QryQ  -MhfebM0QIsKt87iDN-FNw    2.0   \n",
       "1  UmFMZ8PyXZTY2QcwzsfQYA  lbrU8StCq3yDfr-QMnGrmQ    1.0   \n",
       "2  LG2ZaYiOgpr2DK_90pYjNw  HQl28KMwrEKHqhFrrDqVNQ    5.0   \n",
       "3  i6g_oA9Yf9Y31qt0wibXpw  5JxlZaqCnk1MnbgRirs40Q    1.0   \n",
       "4  6TdNDKywdbjoTkizeMce8A  IS4cv902ykd8wj1TR0N3-A    4.0   \n",
       "\n",
       "                                                text  \n",
       "0  As someone who has worked with many museums, I...  \n",
       "1  I am actually horrified this place is still in...  \n",
       "2  I love Deagan's. I do. I really do. The atmosp...  \n",
       "3  Dismal, lukewarm, defrosted-tasting \"TexMex\" g...  \n",
       "4  Oh happy day, finally have a Canes near my cas...  "
      ]
     },
     "execution_count": 126,
     "metadata": {},
     "output_type": "execute_result"
    }
   ],
   "source": [
    "review.head()"
   ]
  },
  {
   "cell_type": "code",
   "execution_count": 127,
   "metadata": {},
   "outputs": [],
   "source": [
    "review = review.rename(columns={'stars': 'review_stars'})"
   ]
  },
  {
   "cell_type": "code",
   "execution_count": 128,
   "metadata": {},
   "outputs": [],
   "source": [
    "final = pd.merge(business_res, review, on='business_id', how='inner')"
   ]
  },
  {
   "cell_type": "code",
   "execution_count": 129,
   "metadata": {},
   "outputs": [
    {
     "data": {
      "text/html": [
       "<div>\n",
       "<style scoped>\n",
       "    .dataframe tbody tr th:only-of-type {\n",
       "        vertical-align: middle;\n",
       "    }\n",
       "\n",
       "    .dataframe tbody tr th {\n",
       "        vertical-align: top;\n",
       "    }\n",
       "\n",
       "    .dataframe thead th {\n",
       "        text-align: right;\n",
       "    }\n",
       "</style>\n",
       "<table border=\"1\" class=\"dataframe\">\n",
       "  <thead>\n",
       "    <tr style=\"text-align: right;\">\n",
       "      <th></th>\n",
       "      <th>business_id</th>\n",
       "      <th>name</th>\n",
       "      <th>state</th>\n",
       "      <th>business_stars</th>\n",
       "      <th>categories</th>\n",
       "      <th>review_id</th>\n",
       "      <th>review_stars</th>\n",
       "      <th>text</th>\n",
       "    </tr>\n",
       "  </thead>\n",
       "  <tbody>\n",
       "    <tr>\n",
       "      <th>0</th>\n",
       "      <td>pQeaRpvuhoEqudo3uymHIQ</td>\n",
       "      <td>The Empanadas House</td>\n",
       "      <td>IL</td>\n",
       "      <td>4.5</td>\n",
       "      <td>Ethnic Food, Food Trucks, Specialty Food, Impo...</td>\n",
       "      <td>2TtLt9skrBwBM6QGEhFYCg</td>\n",
       "      <td>5.0</td>\n",
       "      <td>I love the empanadas from the Empanadas House!...</td>\n",
       "    </tr>\n",
       "    <tr>\n",
       "      <th>1</th>\n",
       "      <td>0QjROMVW9ACKjhSEfHqNCQ</td>\n",
       "      <td>Mi Mi Restaurant</td>\n",
       "      <td>ON</td>\n",
       "      <td>4.0</td>\n",
       "      <td>Vietnamese, Restaurants</td>\n",
       "      <td>k8oDucABRxXtd7c95jK3Fg</td>\n",
       "      <td>5.0</td>\n",
       "      <td>Delicious delicous declicous!! It is my go-to ...</td>\n",
       "    </tr>\n",
       "    <tr>\n",
       "      <th>2</th>\n",
       "      <td>0QjROMVW9ACKjhSEfHqNCQ</td>\n",
       "      <td>Mi Mi Restaurant</td>\n",
       "      <td>ON</td>\n",
       "      <td>4.0</td>\n",
       "      <td>Vietnamese, Restaurants</td>\n",
       "      <td>1cIe4ifcSvXy4lBS3cXHNA</td>\n",
       "      <td>4.0</td>\n",
       "      <td>As a Vietnamese person, I highly recommend thi...</td>\n",
       "    </tr>\n",
       "    <tr>\n",
       "      <th>3</th>\n",
       "      <td>0QjROMVW9ACKjhSEfHqNCQ</td>\n",
       "      <td>Mi Mi Restaurant</td>\n",
       "      <td>ON</td>\n",
       "      <td>4.0</td>\n",
       "      <td>Vietnamese, Restaurants</td>\n",
       "      <td>ucm7wk4DjWmVb-bVcA1-nQ</td>\n",
       "      <td>5.0</td>\n",
       "      <td>Been going to Mi Mi Restaurant for years! I lo...</td>\n",
       "    </tr>\n",
       "    <tr>\n",
       "      <th>4</th>\n",
       "      <td>0QjROMVW9ACKjhSEfHqNCQ</td>\n",
       "      <td>Mi Mi Restaurant</td>\n",
       "      <td>ON</td>\n",
       "      <td>4.0</td>\n",
       "      <td>Vietnamese, Restaurants</td>\n",
       "      <td>QDSIB6w9PJtcopN1Ua7esw</td>\n",
       "      <td>5.0</td>\n",
       "      <td>Our go-to place for Vietnamese food! This plac...</td>\n",
       "    </tr>\n",
       "  </tbody>\n",
       "</table>\n",
       "</div>"
      ],
      "text/plain": [
       "              business_id                 name state  business_stars  \\\n",
       "0  pQeaRpvuhoEqudo3uymHIQ  The Empanadas House    IL             4.5   \n",
       "1  0QjROMVW9ACKjhSEfHqNCQ     Mi Mi Restaurant    ON             4.0   \n",
       "2  0QjROMVW9ACKjhSEfHqNCQ     Mi Mi Restaurant    ON             4.0   \n",
       "3  0QjROMVW9ACKjhSEfHqNCQ     Mi Mi Restaurant    ON             4.0   \n",
       "4  0QjROMVW9ACKjhSEfHqNCQ     Mi Mi Restaurant    ON             4.0   \n",
       "\n",
       "                                          categories               review_id  \\\n",
       "0  Ethnic Food, Food Trucks, Specialty Food, Impo...  2TtLt9skrBwBM6QGEhFYCg   \n",
       "1                            Vietnamese, Restaurants  k8oDucABRxXtd7c95jK3Fg   \n",
       "2                            Vietnamese, Restaurants  1cIe4ifcSvXy4lBS3cXHNA   \n",
       "3                            Vietnamese, Restaurants  ucm7wk4DjWmVb-bVcA1-nQ   \n",
       "4                            Vietnamese, Restaurants  QDSIB6w9PJtcopN1Ua7esw   \n",
       "\n",
       "   review_stars                                               text  \n",
       "0           5.0  I love the empanadas from the Empanadas House!...  \n",
       "1           5.0  Delicious delicous declicous!! It is my go-to ...  \n",
       "2           4.0  As a Vietnamese person, I highly recommend thi...  \n",
       "3           5.0  Been going to Mi Mi Restaurant for years! I lo...  \n",
       "4           5.0  Our go-to place for Vietnamese food! This plac...  "
      ]
     },
     "execution_count": 129,
     "metadata": {},
     "output_type": "execute_result"
    }
   ],
   "source": [
    "final.head()"
   ]
  },
  {
   "cell_type": "code",
   "execution_count": 130,
   "metadata": {},
   "outputs": [
    {
     "data": {
      "text/plain": [
       "business_id        object\n",
       "name               object\n",
       "state              object\n",
       "business_stars    float64\n",
       "categories         object\n",
       "review_id          object\n",
       "review_stars      float64\n",
       "text               object\n",
       "dtype: object"
      ]
     },
     "execution_count": 130,
     "metadata": {},
     "output_type": "execute_result"
    }
   ],
   "source": [
    "final.dtypes"
   ]
  },
  {
   "cell_type": "code",
   "execution_count": 131,
   "metadata": {},
   "outputs": [
    {
     "data": {
      "text/plain": [
       "array(['IL', 'ON', 'AZ', 'OH', 'PA', 'NC', 'NV', 'QC', 'SC', 'AB', 'WI'],\n",
       "      dtype=object)"
      ]
     },
     "execution_count": 131,
     "metadata": {},
     "output_type": "execute_result"
    }
   ],
   "source": [
    "final['state'].unique()#have places in canada too"
   ]
  },
  {
   "cell_type": "code",
   "execution_count": 132,
   "metadata": {},
   "outputs": [
    {
     "data": {
      "text/plain": [
       "(2632, 8)"
      ]
     },
     "execution_count": 132,
     "metadata": {},
     "output_type": "execute_result"
    }
   ],
   "source": [
    "final.shape"
   ]
  },
  {
   "cell_type": "code",
   "execution_count": 133,
   "metadata": {},
   "outputs": [
    {
     "data": {
      "text/plain": [
       "business_id        800\n",
       "name               745\n",
       "state               11\n",
       "business_stars       9\n",
       "categories         682\n",
       "review_id         2632\n",
       "review_stars         5\n",
       "text              2632\n",
       "dtype: int64"
      ]
     },
     "execution_count": 133,
     "metadata": {},
     "output_type": "execute_result"
    }
   ],
   "source": [
    "final.nunique() #number of unique values"
   ]
  },
  {
   "cell_type": "code",
   "execution_count": 34,
   "metadata": {},
   "outputs": [
    {
     "data": {
      "text/plain": [
       "business_id       0\n",
       "name              0\n",
       "state             0\n",
       "business_stars    0\n",
       "categories        0\n",
       "review_id         0\n",
       "review_stars      0\n",
       "text              0\n",
       "dtype: int64"
      ]
     },
     "execution_count": 34,
     "metadata": {},
     "output_type": "execute_result"
    }
   ],
   "source": [
    "final.isna().sum() # no NA's"
   ]
  },
  {
   "cell_type": "code",
   "execution_count": 35,
   "metadata": {},
   "outputs": [
    {
     "data": {
      "text/html": [
       "<div>\n",
       "<style scoped>\n",
       "    .dataframe tbody tr th:only-of-type {\n",
       "        vertical-align: middle;\n",
       "    }\n",
       "\n",
       "    .dataframe tbody tr th {\n",
       "        vertical-align: top;\n",
       "    }\n",
       "\n",
       "    .dataframe thead th {\n",
       "        text-align: right;\n",
       "    }\n",
       "</style>\n",
       "<table border=\"1\" class=\"dataframe\">\n",
       "  <thead>\n",
       "    <tr style=\"text-align: right;\">\n",
       "      <th></th>\n",
       "      <th>business_stars</th>\n",
       "      <th>review_stars</th>\n",
       "    </tr>\n",
       "  </thead>\n",
       "  <tbody>\n",
       "    <tr>\n",
       "      <th>count</th>\n",
       "      <td>2632.000000</td>\n",
       "      <td>2632.000000</td>\n",
       "    </tr>\n",
       "    <tr>\n",
       "      <th>mean</th>\n",
       "      <td>3.763868</td>\n",
       "      <td>3.803571</td>\n",
       "    </tr>\n",
       "    <tr>\n",
       "      <th>std</th>\n",
       "      <td>0.603894</td>\n",
       "      <td>1.348373</td>\n",
       "    </tr>\n",
       "    <tr>\n",
       "      <th>min</th>\n",
       "      <td>1.000000</td>\n",
       "      <td>1.000000</td>\n",
       "    </tr>\n",
       "    <tr>\n",
       "      <th>25%</th>\n",
       "      <td>3.500000</td>\n",
       "      <td>3.000000</td>\n",
       "    </tr>\n",
       "    <tr>\n",
       "      <th>50%</th>\n",
       "      <td>4.000000</td>\n",
       "      <td>4.000000</td>\n",
       "    </tr>\n",
       "    <tr>\n",
       "      <th>75%</th>\n",
       "      <td>4.000000</td>\n",
       "      <td>5.000000</td>\n",
       "    </tr>\n",
       "    <tr>\n",
       "      <th>max</th>\n",
       "      <td>5.000000</td>\n",
       "      <td>5.000000</td>\n",
       "    </tr>\n",
       "  </tbody>\n",
       "</table>\n",
       "</div>"
      ],
      "text/plain": [
       "       business_stars  review_stars\n",
       "count     2632.000000   2632.000000\n",
       "mean         3.763868      3.803571\n",
       "std          0.603894      1.348373\n",
       "min          1.000000      1.000000\n",
       "25%          3.500000      3.000000\n",
       "50%          4.000000      4.000000\n",
       "75%          4.000000      5.000000\n",
       "max          5.000000      5.000000"
      ]
     },
     "execution_count": 35,
     "metadata": {},
     "output_type": "execute_result"
    }
   ],
   "source": [
    "final.describe()"
   ]
  },
  {
   "cell_type": "code",
   "execution_count": 134,
   "metadata": {},
   "outputs": [],
   "source": [
    "#selecting stars and text of reviews\n",
    "df1 = final[['review_stars', 'text']]"
   ]
  },
  {
   "cell_type": "code",
   "execution_count": 37,
   "metadata": {},
   "outputs": [
    {
     "data": {
      "image/png": "[encoded data removed]",
      "text/plain": [
       "<Figure size 576x360 with 1 Axes>"
      ]
     },
     "metadata": {},
     "output_type": "display_data"
    }
   ],
   "source": [
    "sns.set(rc={'figure.figsize':(8,5)})\n",
    "\n",
    "#there are more 5 star reviews so we would need to normalize it\n",
    "ax = sns.barplot(data=df1, x='review_stars', y='review_stars', estimator=lambda x: len(x) / len(df1) * 100)\n",
    "ax.set(ylabel=\"Percent\")\n",
    "plt.title('Distribution of Customer Rating')\n",
    "plt.show()"
   ]
  },
  {
   "cell_type": "code",
   "execution_count": 38,
   "metadata": {},
   "outputs": [
    {
     "name": "stderr",
     "output_type": "stream",
     "text": [
      "<ipython-input-38-a6334dfa1450>:4: SettingWithCopyWarning: \n",
      "A value is trying to be set on a copy of a slice from a DataFrame.\n",
      "Try using .loc[row_indexer,col_indexer] = value instead\n",
      "\n",
      "See the caveats in the documentation: https://pandas.pydata.org/pandas-docs/stable/user_guide/indexing.html#returning-a-view-versus-a-copy\n",
      "  df1['language'] = languages\n"
     ]
    }
   ],
   "source": [
    "#We know from past analysis that there is foreign language in this dataset. \n",
    "language = [detect_langs(i) for i in df1.text]\n",
    "languages = [str(i[0]).split(':')[0] for i in language]\n",
    "df1['language'] = languages"
   ]
  },
  {
   "cell_type": "code",
   "execution_count": 39,
   "metadata": {},
   "outputs": [
    {
     "data": {
      "text/plain": [
       "array(['en', 'fr', 'no', 'ko', 'es', 'de'], dtype=object)"
      ]
     },
     "execution_count": 39,
     "metadata": {},
     "output_type": "execute_result"
    }
   ],
   "source": [
    "df1['language'].unique()# There is non-english reviews"
   ]
  },
  {
   "cell_type": "code",
   "execution_count": 40,
   "metadata": {},
   "outputs": [
    {
     "data": {
      "text/plain": [
       "language\n",
       "de       1\n",
       "en    2622\n",
       "es       2\n",
       "fr       5\n",
       "ko       1\n",
       "no       1\n",
       "Name: text, dtype: int64"
      ]
     },
     "execution_count": 40,
     "metadata": {},
     "output_type": "execute_result"
    }
   ],
   "source": [
    "df1.groupby('language')['text'].nunique() #There are 11 non-english reviews"
   ]
  },
  {
   "cell_type": "code",
   "execution_count": 41,
   "metadata": {},
   "outputs": [],
   "source": [
    "df1 = df1.loc[df1[\"language\"].isin([\"en\"])]#include reviews that are only in english"
   ]
  },
  {
   "cell_type": "code",
   "execution_count": 42,
   "metadata": {},
   "outputs": [
    {
     "data": {
      "text/plain": [
       "review_stars       5\n",
       "text            2622\n",
       "language           1\n",
       "dtype: int64"
      ]
     },
     "execution_count": 42,
     "metadata": {},
     "output_type": "execute_result"
    }
   ],
   "source": [
    "df1.nunique()"
   ]
  },
  {
   "cell_type": "code",
   "execution_count": 45,
   "metadata": {},
   "outputs": [],
   "source": [
    "only_review  = final['text']"
   ]
  },
  {
   "cell_type": "code",
   "execution_count": 46,
   "metadata": {},
   "outputs": [
    {
     "data": {
      "text/plain": [
       "<AxesSubplot:>"
      ]
     },
     "execution_count": 46,
     "metadata": {},
     "output_type": "execute_result"
    },
    {
     "data": {
      "image/png": "[encoded data removed]",
      "text/plain": [
       "<Figure size 576x360 with 1 Axes>"
      ]
     },
     "metadata": {},
     "output_type": "display_data"
    }
   ],
   "source": [
    "#most reviews were around 100\n",
    "review_words_lengths = only_review.apply(lambda x: len(nltk.word_tokenize(x)))\n",
    "review_words_lengths.hist(bins = 25)"
   ]
  },
  {
   "cell_type": "code",
   "execution_count": 47,
   "metadata": {},
   "outputs": [
    {
     "data": {
      "text/plain": [
       "1"
      ]
     },
     "execution_count": 47,
     "metadata": {},
     "output_type": "execute_result"
    }
   ],
   "source": [
    "min(review_words_lengths)"
   ]
  },
  {
   "cell_type": "code",
   "execution_count": 48,
   "metadata": {},
   "outputs": [
    {
     "data": {
      "text/plain": [
       "979"
      ]
     },
     "execution_count": 48,
     "metadata": {},
     "output_type": "execute_result"
    }
   ],
   "source": [
    "max(review_words_lengths)"
   ]
  },
  {
   "cell_type": "code",
   "execution_count": 49,
   "metadata": {},
   "outputs": [],
   "source": [
    "#making list of stop words\n",
    "my_stop_words = set(stopwords.words('english') + list(ENGLISH_STOP_WORDS)+\n",
    "                   ['u', 'will', 'still', 'Ive', 'Iam', 'm', 'I', 've'])\n",
    "#hard to exclude I've and I'm\n",
    "#to include more stop words"
   ]
  },
  {
   "cell_type": "code",
   "execution_count": 50,
   "metadata": {},
   "outputs": [],
   "source": [
    "GoodInd = df1['review_stars'] >3.9 # All reviews with more than 3.9 stars\n",
    "GoodRev = df1[GoodInd]\n",
    "\n",
    "BadInd = df1['review_stars'] < 4 # All reviews with more than 3.9 stars\n",
    "BadRev = df1[BadInd]"
   ]
  },
  {
   "cell_type": "code",
   "execution_count": 51,
   "metadata": {},
   "outputs": [
    {
     "data": {
      "image/png": "[encoded data removed]",
      "text/plain": [
       "<Figure size 576x360 with 1 Axes>"
      ]
     },
     "metadata": {},
     "output_type": "display_data"
    }
   ],
   "source": [
    "#making word cloud to make sure that we dont need more stop words\n",
    "#this is the general word cloud with all data\n",
    "from wordcloud import WordCloud\n",
    "# concatenate all the reviews into one single string \n",
    "full_text = ' '.join(df1['text']) #only has the text data. This is also used later\n",
    "\n",
    "cloud_no_stopword = WordCloud(background_color='white', stopwords=my_stop_words).generate(full_text)\n",
    "plt.imshow(cloud_no_stopword, interpolation='bilinear')\n",
    "plt.axis('off')\n",
    "plt.show()"
   ]
  },
  {
   "cell_type": "code",
   "execution_count": 52,
   "metadata": {},
   "outputs": [],
   "source": [
    "def word_cloud_rating(data,star_value):\n",
    "    \n",
    "    #data_filtered = data[data.review_stars == star_value] #filtering according to the star value\n",
    "    data_filtered = data[data.review_stars.isin(star_value)]\n",
    "    Reviews = data_filtered.text\n",
    "\n",
    "    Reviews_text = ' '.join(Reviews.values) #joining all the words together\n",
    "\n",
    "\n",
    "    # Creating a word cloud object\n",
    "    wordcloud = WordCloud(max_font_size=100, max_words=100, background_color=\"white\",\\\n",
    "                          scale = 10,width=800, height=400, stopwords=my_stop_words).generate(Reviews_text)\n",
    "\n",
    "    # Plotting the generated word cloud\n",
    "    plt.figure()\n",
    "    plt.imshow(wordcloud, interpolation=\"bilinear\")\n",
    "    plt.axis(\"off\")\n",
    "    plt.show()"
   ]
  },
  {
   "cell_type": "code",
   "execution_count": 53,
   "metadata": {},
   "outputs": [
    {
     "data": {
      "image/png": "[encoded data removed]",
      "text/plain": [
       "<Figure size 576x360 with 1 Axes>"
      ]
     },
     "metadata": {},
     "output_type": "display_data"
    }
   ],
   "source": [
    "#wordcloud with 4 and 5 rating\n",
    "word_cloud_rating(df1,[4,5])"
   ]
  },
  {
   "cell_type": "code",
   "execution_count": 54,
   "metadata": {},
   "outputs": [
    {
     "data": {
      "image/png": "[encoded data removed]",
      "text/plain": [
       "<Figure size 576x360 with 1 Axes>"
      ]
     },
     "metadata": {},
     "output_type": "display_data"
    }
   ],
   "source": [
    "#wordcloud with 1,2,3 rating\n",
    "word_cloud_rating(df1,[1,2,3])"
   ]
  },
  {
   "cell_type": "code",
   "execution_count": 55,
   "metadata": {},
   "outputs": [
    {
     "name": "stdout",
     "output_type": "stream",
     "text": [
      " is going to be any good - the salsa was\n",
      "ortunately the only good thing I have to\n",
      "tting. The food was good, no complaints \n",
      "ld suck but overall good service. I'm no\n",
      "hed restaurant with good food has deteri\n",
      ". The tacos are not good. Cold. Hard. To\n",
      " food tasted really good. My boyfriend h\n",
      "ess I've always had good sushi rice that\n",
      "rything was so very good. Last night pro\n",
      "\n",
      "\n",
      "e is , the food was good but it can't ma\n",
      " shot.    So not a good experience.  If\n",
      "k and the sushi was good.  You could tel\n",
      "less were less than good. Boo Al's. Also\n",
      "we received was NOT good. Our waiters we\n",
      "this place might be good for you. I on t\n",
      "e yet!! Food wasn't good, horrible quali\n",
      "\n",
      "g else didn't taste good either. This wa\n"
     ]
    }
   ],
   "source": [
    "#good is included in both\n",
    "#First 5 reviews of so with 1 star and contains the word good. Here good has been used in a negative way\n",
    "reviews_containing_good = [each for each in final[final.review_stars == 1].text if 'good' in each]\n",
    "for review in reviews_containing_good[:20]:\n",
    "    good_index = review.find(\"good\")\n",
    "    print(review[good_index-20:good_index+20].replace(\"\\n\", \"\"))"
   ]
  },
  {
   "cell_type": "code",
   "execution_count": 56,
   "metadata": {},
   "outputs": [
    {
     "name": "stdout",
     "output_type": "stream",
     "text": [
      "hop with rice is so good and flavourful \n",
      "i's. It's just that good. But if you are\n",
      "owever, the food is good and that's what\n",
      " ice cream is super good. Really busy bu\n",
      "you always get very good conversation wh\n",
      "\n",
      "ut trust me, it's a good thing. Especial\n",
      "sant,  the food was good.   We ordered t\n",
      "an,  the food is as good as, if not bett\n",
      "\n",
      " The salad was very good. The lomein had\n",
      "nd it does it for a good price. Lotus Ro\n",
      "nce. The menu has a good variety, and ou\n",
      "Everything was so good I will be back!\n",
      "ilk teas are pretty good and light on th\n",
      "who cares with such good food!  We tried\n",
      "ere taken Extremely good care of by the \n",
      "ries are also super good!\n",
      "s delicious ! So so good! Can't wait to \n",
      "\n"
     ]
    }
   ],
   "source": [
    "#First 5 reviews of so with 5 star and contains the word good. Here good has been used in a positive way\n",
    "reviews_containing_good = [each for each in final[final.review_stars == 5].text if 'good' in each]\n",
    "for review in reviews_containing_good[:20]:\n",
    "    good_index = review.find(\"good\")\n",
    "    print(review[good_index-20:good_index+20].replace(\"\\n\", \"\"))\n",
    "    \n",
    "#Negated words are a big issue in this dataset"
   ]
  },
  {
   "cell_type": "code",
   "execution_count": 57,
   "metadata": {},
   "outputs": [
    {
     "name": "stdout",
     "output_type": "stream",
     "text": [
      "[('good', 285), ('other', 114), ('great', 91), ('nice', 84), ('bad', 69), ('first', 68), ('few', 57), ('little', 57), ('small', 55), ('much', 49), ('busy', 47), ('last', 44), ('many', 41), ('same', 39), ('special', 37), ('decent', 37), ('fresh', 34), ('sure', 33), ('big', 33), ('friendly', 31), ('different', 31), ('ok', 31), ('next', 31), ('delicious', 30), ('terrible', 30), ('hot', 29), ('high', 29), ('tasty', 29), ('whole', 27), ('dry', 27)]\n",
      "[('good', 259), ('great', 220), ('fresh', 77), ('delicious', 73), ('little', 71), ('friendly', 70), ('nice', 68), ('other', 53), ('few', 53), ('first', 48), ('amazing', 47), ('favorite', 43), ('awesome', 41), ('excellent', 36), ('small', 35), ('many', 34), ('next', 34), ('much', 34), ('new', 33), ('super', 33), ('sure', 32), ('different', 31), ('big', 31), ('tasty', 30), ('Good', 28), ('clean', 26), ('only', 26), ('hot', 26), ('last', 24), ('perfect', 23)]\n"
     ]
    }
   ],
   "source": [
    "#finding most used adjectives in good reviews and bad reviews. Only doing 500\n",
    "one_star_reviews = final[final['review_stars']<4]['text'][:500]\n",
    "five_star_reviews = final[final['review_stars']>3.9]['text'][:500]\n",
    "\n",
    "\n",
    "def extract_specific_pos(reviews, pos_tag):\n",
    "    results = [] \n",
    "    for review in reviews:\n",
    "        words = nltk.word_tokenize(review)\n",
    "        tagged = nltk.pos_tag(words)\n",
    "        keep = [x[0] for x in tagged if x[1] == pos_tag]\n",
    "        results += keep\n",
    "    return results\n",
    "\n",
    "\n",
    "negative_adjectives = extract_specific_pos(one_star_reviews, \"JJ\")\n",
    "positive_adjectives = extract_specific_pos(five_star_reviews, \"JJ\")\n",
    "\n",
    "print(Counter(negative_adjectives).most_common(30))\n",
    "print(Counter(positive_adjectives).most_common(30))"
   ]
  },
  {
   "cell_type": "code",
   "execution_count": 58,
   "metadata": {},
   "outputs": [
    {
     "name": "stdout",
     "output_type": "stream",
     "text": [
      "[('food', 422), ('place', 241), ('service', 237), ('time', 202), ('order', 164), ('restaurant', 121), ('menu', 87), ('table', 84), ('server', 73), ('sushi', 70), ('experience', 67), ('chicken', 66), ('sauce', 60), ('meat', 59), ('meal', 59), ('pizza', 59), ('rice', 58), ('nothing', 57), ('way', 56), ('drink', 55), ('dinner', 53), ('location', 52), ('staff', 52), ('salad', 52), ('i', 50), ('night', 49), ('water', 49), ('lunch', 48), ('waitress', 48), ('something', 47)]\n",
      "[('place', 307), ('food', 262), ('service', 131), ('time', 121), ('order', 76), ('chicken', 76), ('menu', 74), ('restaurant', 73), ('staff', 68), ('dinner', 58), ('sushi', 58), ('night', 56), ('pizza', 53), ('lunch', 51), ('salad', 51), ('sauce', 48), ('meal', 48), ('bar', 46), ('rice', 45), ('day', 44), ('experience', 44), ('area', 44), ('way', 43), ('side', 41), ('spot', 37), ('soup', 37), ('price', 37), ('roll', 37), ('cream', 37), ('meat', 36)]\n"
     ]
    }
   ],
   "source": [
    "negative_nouns = extract_specific_pos(one_star_reviews, \"NN\")\n",
    "positive_nouns = extract_specific_pos(five_star_reviews, \"NN\")\n",
    "\n",
    "print(Counter(negative_nouns).most_common(30))\n",
    "print(Counter(positive_nouns).most_common(30))"
   ]
  },
  {
   "cell_type": "code",
   "execution_count": 59,
   "metadata": {},
   "outputs": [
    {
     "data": {
      "text/html": [
       "<div>\n",
       "<style scoped>\n",
       "    .dataframe tbody tr th:only-of-type {\n",
       "        vertical-align: middle;\n",
       "    }\n",
       "\n",
       "    .dataframe tbody tr th {\n",
       "        vertical-align: top;\n",
       "    }\n",
       "\n",
       "    .dataframe thead th {\n",
       "        text-align: right;\n",
       "    }\n",
       "</style>\n",
       "<table border=\"1\" class=\"dataframe\">\n",
       "  <thead>\n",
       "    <tr style=\"text-align: right;\">\n",
       "      <th></th>\n",
       "      <th>Word</th>\n",
       "      <th>Frequency</th>\n",
       "    </tr>\n",
       "  </thead>\n",
       "  <tbody>\n",
       "    <tr>\n",
       "      <th>0</th>\n",
       "      <td>food</td>\n",
       "      <td>1963</td>\n",
       "    </tr>\n",
       "    <tr>\n",
       "      <th>1</th>\n",
       "      <td>good</td>\n",
       "      <td>1598</td>\n",
       "    </tr>\n",
       "    <tr>\n",
       "      <th>2</th>\n",
       "      <td>place</td>\n",
       "      <td>1411</td>\n",
       "    </tr>\n",
       "    <tr>\n",
       "      <th>3</th>\n",
       "      <td>great</td>\n",
       "      <td>1252</td>\n",
       "    </tr>\n",
       "    <tr>\n",
       "      <th>4</th>\n",
       "      <td>service</td>\n",
       "      <td>1071</td>\n",
       "    </tr>\n",
       "    <tr>\n",
       "      <th>5</th>\n",
       "      <td>like</td>\n",
       "      <td>878</td>\n",
       "    </tr>\n",
       "    <tr>\n",
       "      <th>6</th>\n",
       "      <td>time</td>\n",
       "      <td>761</td>\n",
       "    </tr>\n",
       "    <tr>\n",
       "      <th>7</th>\n",
       "      <td>really</td>\n",
       "      <td>648</td>\n",
       "    </tr>\n",
       "    <tr>\n",
       "      <th>8</th>\n",
       "      <td>restaurant</td>\n",
       "      <td>587</td>\n",
       "    </tr>\n",
       "    <tr>\n",
       "      <th>9</th>\n",
       "      <td>ordered</td>\n",
       "      <td>587</td>\n",
       "    </tr>\n",
       "    <tr>\n",
       "      <th>10</th>\n",
       "      <td>got</td>\n",
       "      <td>552</td>\n",
       "    </tr>\n",
       "    <tr>\n",
       "      <th>11</th>\n",
       "      <td>chicken</td>\n",
       "      <td>538</td>\n",
       "    </tr>\n",
       "    <tr>\n",
       "      <th>12</th>\n",
       "      <td>order</td>\n",
       "      <td>530</td>\n",
       "    </tr>\n",
       "    <tr>\n",
       "      <th>13</th>\n",
       "      <td>best</td>\n",
       "      <td>528</td>\n",
       "    </tr>\n",
       "    <tr>\n",
       "      <th>14</th>\n",
       "      <td>nice</td>\n",
       "      <td>474</td>\n",
       "    </tr>\n",
       "    <tr>\n",
       "      <th>15</th>\n",
       "      <td>delicious</td>\n",
       "      <td>469</td>\n",
       "    </tr>\n",
       "    <tr>\n",
       "      <th>16</th>\n",
       "      <td>love</td>\n",
       "      <td>468</td>\n",
       "    </tr>\n",
       "    <tr>\n",
       "      <th>17</th>\n",
       "      <td>menu</td>\n",
       "      <td>463</td>\n",
       "    </tr>\n",
       "    <tr>\n",
       "      <th>18</th>\n",
       "      <td>try</td>\n",
       "      <td>457</td>\n",
       "    </tr>\n",
       "    <tr>\n",
       "      <th>19</th>\n",
       "      <td>came</td>\n",
       "      <td>455</td>\n",
       "    </tr>\n",
       "  </tbody>\n",
       "</table>\n",
       "</div>"
      ],
      "text/plain": [
       "          Word  Frequency\n",
       "0         food       1963\n",
       "1         good       1598\n",
       "2        place       1411\n",
       "3        great       1252\n",
       "4      service       1071\n",
       "5         like        878\n",
       "6         time        761\n",
       "7       really        648\n",
       "8   restaurant        587\n",
       "9      ordered        587\n",
       "10         got        552\n",
       "11     chicken        538\n",
       "12       order        530\n",
       "13        best        528\n",
       "14        nice        474\n",
       "15   delicious        469\n",
       "16        love        468\n",
       "17        menu        463\n",
       "18         try        457\n",
       "19        came        455"
      ]
     },
     "execution_count": 59,
     "metadata": {},
     "output_type": "execute_result"
    }
   ],
   "source": [
    "#word tokenization\n",
    "from nltk.tokenize import word_tokenize\n",
    "from nltk import FreqDist\n",
    "\n",
    "lower_full_text = full_text.lower()# all lower case\n",
    "word_tokens = word_tokenize(lower_full_text) #tokenizing all the words\n",
    "\n",
    "tokens = list() \n",
    "for word in word_tokens:\n",
    "    if word.isalpha() and word not in my_stop_words:#exclude all stop words\n",
    "        tokens.append(word)\n",
    "        \n",
    "token_dist = FreqDist(tokens)\n",
    "dist = pd.DataFrame(token_dist.most_common(20),columns=['Word', 'Frequency'])\n",
    "dist # top 20 common words\n"
   ]
  },
  {
   "cell_type": "code",
   "execution_count": 60,
   "metadata": {},
   "outputs": [
    {
     "data": {
      "text/html": [
       "<div>\n",
       "<style scoped>\n",
       "    .dataframe tbody tr th:only-of-type {\n",
       "        vertical-align: middle;\n",
       "    }\n",
       "\n",
       "    .dataframe tbody tr th {\n",
       "        vertical-align: top;\n",
       "    }\n",
       "\n",
       "    .dataframe thead th {\n",
       "        text-align: right;\n",
       "    }\n",
       "</style>\n",
       "<table border=\"1\" class=\"dataframe\">\n",
       "  <thead>\n",
       "    <tr style=\"text-align: right;\">\n",
       "      <th></th>\n",
       "      <th>Word</th>\n",
       "      <th>Frequency</th>\n",
       "    </tr>\n",
       "  </thead>\n",
       "  <tbody>\n",
       "    <tr>\n",
       "      <th>0</th>\n",
       "      <td>food</td>\n",
       "      <td>1982</td>\n",
       "    </tr>\n",
       "    <tr>\n",
       "      <th>1</th>\n",
       "      <td>good</td>\n",
       "      <td>1627</td>\n",
       "    </tr>\n",
       "    <tr>\n",
       "      <th>2</th>\n",
       "      <td>place</td>\n",
       "      <td>1625</td>\n",
       "    </tr>\n",
       "    <tr>\n",
       "      <th>3</th>\n",
       "      <td>order</td>\n",
       "      <td>1266</td>\n",
       "    </tr>\n",
       "    <tr>\n",
       "      <th>4</th>\n",
       "      <td>great</td>\n",
       "      <td>1253</td>\n",
       "    </tr>\n",
       "    <tr>\n",
       "      <th>5</th>\n",
       "      <td>servic</td>\n",
       "      <td>1091</td>\n",
       "    </tr>\n",
       "    <tr>\n",
       "      <th>6</th>\n",
       "      <td>time</td>\n",
       "      <td>1002</td>\n",
       "    </tr>\n",
       "    <tr>\n",
       "      <th>7</th>\n",
       "      <td>like</td>\n",
       "      <td>991</td>\n",
       "    </tr>\n",
       "    <tr>\n",
       "      <th>8</th>\n",
       "      <td>tri</td>\n",
       "      <td>787</td>\n",
       "    </tr>\n",
       "    <tr>\n",
       "      <th>9</th>\n",
       "      <td>restaur</td>\n",
       "      <td>702</td>\n",
       "    </tr>\n",
       "    <tr>\n",
       "      <th>10</th>\n",
       "      <td>love</td>\n",
       "      <td>663</td>\n",
       "    </tr>\n",
       "    <tr>\n",
       "      <th>11</th>\n",
       "      <td>realli</td>\n",
       "      <td>648</td>\n",
       "    </tr>\n",
       "    <tr>\n",
       "      <th>12</th>\n",
       "      <td>come</td>\n",
       "      <td>631</td>\n",
       "    </tr>\n",
       "    <tr>\n",
       "      <th>13</th>\n",
       "      <td>got</td>\n",
       "      <td>552</td>\n",
       "    </tr>\n",
       "    <tr>\n",
       "      <th>14</th>\n",
       "      <td>chicken</td>\n",
       "      <td>539</td>\n",
       "    </tr>\n",
       "    <tr>\n",
       "      <th>15</th>\n",
       "      <td>best</td>\n",
       "      <td>528</td>\n",
       "    </tr>\n",
       "    <tr>\n",
       "      <th>16</th>\n",
       "      <td>nice</td>\n",
       "      <td>497</td>\n",
       "    </tr>\n",
       "    <tr>\n",
       "      <th>17</th>\n",
       "      <td>eat</td>\n",
       "      <td>497</td>\n",
       "    </tr>\n",
       "    <tr>\n",
       "      <th>18</th>\n",
       "      <td>wait</td>\n",
       "      <td>488</td>\n",
       "    </tr>\n",
       "    <tr>\n",
       "      <th>19</th>\n",
       "      <td>menu</td>\n",
       "      <td>485</td>\n",
       "    </tr>\n",
       "  </tbody>\n",
       "</table>\n",
       "</div>"
      ],
      "text/plain": [
       "       Word  Frequency\n",
       "0      food       1982\n",
       "1      good       1627\n",
       "2     place       1625\n",
       "3     order       1266\n",
       "4     great       1253\n",
       "5    servic       1091\n",
       "6      time       1002\n",
       "7      like        991\n",
       "8       tri        787\n",
       "9   restaur        702\n",
       "10     love        663\n",
       "11   realli        648\n",
       "12     come        631\n",
       "13      got        552\n",
       "14  chicken        539\n",
       "15     best        528\n",
       "16     nice        497\n",
       "17      eat        497\n",
       "18     wait        488\n",
       "19     menu        485"
      ]
     },
     "execution_count": 60,
     "metadata": {},
     "output_type": "execute_result"
    }
   ],
   "source": [
    "#Top words after stemming. includes all reviews\n",
    "from nltk.stem import PorterStemmer\n",
    "porter = PorterStemmer()\n",
    "stemmed_tokens =[porter.stem(word) for word in tokens]\n",
    "stemmed_token_dist = FreqDist(stemmed_tokens)\n",
    "stemmed_dist = pd.DataFrame(stemmed_token_dist.most_common(20),columns=['Word', 'Frequency'])\n",
    "stemmed_dist"
   ]
  },
  {
   "cell_type": "code",
   "execution_count": 61,
   "metadata": {},
   "outputs": [
    {
     "data": {
      "text/html": [
       "<div>\n",
       "<style scoped>\n",
       "    .dataframe tbody tr th:only-of-type {\n",
       "        vertical-align: middle;\n",
       "    }\n",
       "\n",
       "    .dataframe tbody tr th {\n",
       "        vertical-align: top;\n",
       "    }\n",
       "\n",
       "    .dataframe thead th {\n",
       "        text-align: right;\n",
       "    }\n",
       "</style>\n",
       "<table border=\"1\" class=\"dataframe\">\n",
       "  <thead>\n",
       "    <tr style=\"text-align: right;\">\n",
       "      <th></th>\n",
       "      <th>Word</th>\n",
       "      <th>Frequency</th>\n",
       "    </tr>\n",
       "  </thead>\n",
       "  <tbody>\n",
       "    <tr>\n",
       "      <th>0</th>\n",
       "      <td>food</td>\n",
       "      <td>1177</td>\n",
       "    </tr>\n",
       "    <tr>\n",
       "      <th>1</th>\n",
       "      <td>good</td>\n",
       "      <td>1089</td>\n",
       "    </tr>\n",
       "    <tr>\n",
       "      <th>2</th>\n",
       "      <td>great</td>\n",
       "      <td>1068</td>\n",
       "    </tr>\n",
       "    <tr>\n",
       "      <th>3</th>\n",
       "      <td>place</td>\n",
       "      <td>990</td>\n",
       "    </tr>\n",
       "    <tr>\n",
       "      <th>4</th>\n",
       "      <td>service</td>\n",
       "      <td>658</td>\n",
       "    </tr>\n",
       "    <tr>\n",
       "      <th>5</th>\n",
       "      <td>like</td>\n",
       "      <td>512</td>\n",
       "    </tr>\n",
       "    <tr>\n",
       "      <th>6</th>\n",
       "      <td>time</td>\n",
       "      <td>442</td>\n",
       "    </tr>\n",
       "    <tr>\n",
       "      <th>7</th>\n",
       "      <td>delicious</td>\n",
       "      <td>423</td>\n",
       "    </tr>\n",
       "    <tr>\n",
       "      <th>8</th>\n",
       "      <td>best</td>\n",
       "      <td>418</td>\n",
       "    </tr>\n",
       "    <tr>\n",
       "      <th>9</th>\n",
       "      <td>really</td>\n",
       "      <td>417</td>\n",
       "    </tr>\n",
       "    <tr>\n",
       "      <th>10</th>\n",
       "      <td>love</td>\n",
       "      <td>408</td>\n",
       "    </tr>\n",
       "    <tr>\n",
       "      <th>11</th>\n",
       "      <td>amazing</td>\n",
       "      <td>385</td>\n",
       "    </tr>\n",
       "    <tr>\n",
       "      <th>12</th>\n",
       "      <td>restaurant</td>\n",
       "      <td>372</td>\n",
       "    </tr>\n",
       "    <tr>\n",
       "      <th>13</th>\n",
       "      <td>chicken</td>\n",
       "      <td>349</td>\n",
       "    </tr>\n",
       "    <tr>\n",
       "      <th>14</th>\n",
       "      <td>definitely</td>\n",
       "      <td>333</td>\n",
       "    </tr>\n",
       "    <tr>\n",
       "      <th>15</th>\n",
       "      <td>try</td>\n",
       "      <td>328</td>\n",
       "    </tr>\n",
       "    <tr>\n",
       "      <th>16</th>\n",
       "      <td>menu</td>\n",
       "      <td>328</td>\n",
       "    </tr>\n",
       "    <tr>\n",
       "      <th>17</th>\n",
       "      <td>nice</td>\n",
       "      <td>327</td>\n",
       "    </tr>\n",
       "    <tr>\n",
       "      <th>18</th>\n",
       "      <td>got</td>\n",
       "      <td>324</td>\n",
       "    </tr>\n",
       "    <tr>\n",
       "      <th>19</th>\n",
       "      <td>ordered</td>\n",
       "      <td>320</td>\n",
       "    </tr>\n",
       "  </tbody>\n",
       "</table>\n",
       "</div>"
      ],
      "text/plain": [
       "          Word  Frequency\n",
       "0         food       1177\n",
       "1         good       1089\n",
       "2        great       1068\n",
       "3        place        990\n",
       "4      service        658\n",
       "5         like        512\n",
       "6         time        442\n",
       "7    delicious        423\n",
       "8         best        418\n",
       "9       really        417\n",
       "10        love        408\n",
       "11     amazing        385\n",
       "12  restaurant        372\n",
       "13     chicken        349\n",
       "14  definitely        333\n",
       "15         try        328\n",
       "16        menu        328\n",
       "17        nice        327\n",
       "18         got        324\n",
       "19     ordered        320"
      ]
     },
     "execution_count": 61,
     "metadata": {},
     "output_type": "execute_result"
    }
   ],
   "source": [
    "#High frequency words of good reviews, reviews more than 3.9\n",
    "GoodInd = df1['review_stars'] >3.9 # All reviews with more than 3.9 stars\n",
    "GoodRev = df1[GoodInd]\n",
    "full_text_good = ' '.join(GoodRev['text'])\n",
    "\n",
    "lower_full_text_good = full_text_good.lower()# all lower case\n",
    "word_tokens_good = word_tokenize(lower_full_text_good) #tokenizing all the words\n",
    "\n",
    "tokens_good = list() \n",
    "for word in word_tokens_good:\n",
    "    if word.isalpha() and word not in my_stop_words:#exclude all stop words\n",
    "        tokens_good.append(word)\n",
    "        \n",
    "token_dist_good = FreqDist(tokens_good)\n",
    "dist_good = pd.DataFrame(token_dist_good.most_common(20),columns=['Word', 'Frequency'])\n",
    "dist_good"
   ]
  },
  {
   "cell_type": "code",
   "execution_count": 62,
   "metadata": {},
   "outputs": [
    {
     "data": {
      "text/html": [
       "<div>\n",
       "<style scoped>\n",
       "    .dataframe tbody tr th:only-of-type {\n",
       "        vertical-align: middle;\n",
       "    }\n",
       "\n",
       "    .dataframe tbody tr th {\n",
       "        vertical-align: top;\n",
       "    }\n",
       "\n",
       "    .dataframe thead th {\n",
       "        text-align: right;\n",
       "    }\n",
       "</style>\n",
       "<table border=\"1\" class=\"dataframe\">\n",
       "  <thead>\n",
       "    <tr style=\"text-align: right;\">\n",
       "      <th></th>\n",
       "      <th>Word</th>\n",
       "      <th>Frequency</th>\n",
       "    </tr>\n",
       "  </thead>\n",
       "  <tbody>\n",
       "    <tr>\n",
       "      <th>0</th>\n",
       "      <td>food</td>\n",
       "      <td>1189</td>\n",
       "    </tr>\n",
       "    <tr>\n",
       "      <th>1</th>\n",
       "      <td>place</td>\n",
       "      <td>1128</td>\n",
       "    </tr>\n",
       "    <tr>\n",
       "      <th>2</th>\n",
       "      <td>good</td>\n",
       "      <td>1109</td>\n",
       "    </tr>\n",
       "    <tr>\n",
       "      <th>3</th>\n",
       "      <td>great</td>\n",
       "      <td>1069</td>\n",
       "    </tr>\n",
       "    <tr>\n",
       "      <th>4</th>\n",
       "      <td>servic</td>\n",
       "      <td>669</td>\n",
       "    </tr>\n",
       "    <tr>\n",
       "      <th>5</th>\n",
       "      <td>order</td>\n",
       "      <td>661</td>\n",
       "    </tr>\n",
       "    <tr>\n",
       "      <th>6</th>\n",
       "      <td>like</td>\n",
       "      <td>590</td>\n",
       "    </tr>\n",
       "    <tr>\n",
       "      <th>7</th>\n",
       "      <td>time</td>\n",
       "      <td>578</td>\n",
       "    </tr>\n",
       "    <tr>\n",
       "      <th>8</th>\n",
       "      <td>love</td>\n",
       "      <td>572</td>\n",
       "    </tr>\n",
       "    <tr>\n",
       "      <th>9</th>\n",
       "      <td>tri</td>\n",
       "      <td>548</td>\n",
       "    </tr>\n",
       "    <tr>\n",
       "      <th>10</th>\n",
       "      <td>restaur</td>\n",
       "      <td>445</td>\n",
       "    </tr>\n",
       "    <tr>\n",
       "      <th>11</th>\n",
       "      <td>delici</td>\n",
       "      <td>433</td>\n",
       "    </tr>\n",
       "    <tr>\n",
       "      <th>12</th>\n",
       "      <td>best</td>\n",
       "      <td>418</td>\n",
       "    </tr>\n",
       "    <tr>\n",
       "      <th>13</th>\n",
       "      <td>realli</td>\n",
       "      <td>417</td>\n",
       "    </tr>\n",
       "    <tr>\n",
       "      <th>14</th>\n",
       "      <td>come</td>\n",
       "      <td>411</td>\n",
       "    </tr>\n",
       "    <tr>\n",
       "      <th>15</th>\n",
       "      <td>amaz</td>\n",
       "      <td>395</td>\n",
       "    </tr>\n",
       "    <tr>\n",
       "      <th>16</th>\n",
       "      <td>chicken</td>\n",
       "      <td>349</td>\n",
       "    </tr>\n",
       "    <tr>\n",
       "      <th>17</th>\n",
       "      <td>nice</td>\n",
       "      <td>340</td>\n",
       "    </tr>\n",
       "    <tr>\n",
       "      <th>18</th>\n",
       "      <td>menu</td>\n",
       "      <td>340</td>\n",
       "    </tr>\n",
       "    <tr>\n",
       "      <th>19</th>\n",
       "      <td>definit</td>\n",
       "      <td>339</td>\n",
       "    </tr>\n",
       "  </tbody>\n",
       "</table>\n",
       "</div>"
      ],
      "text/plain": [
       "       Word  Frequency\n",
       "0      food       1189\n",
       "1     place       1128\n",
       "2      good       1109\n",
       "3     great       1069\n",
       "4    servic        669\n",
       "5     order        661\n",
       "6      like        590\n",
       "7      time        578\n",
       "8      love        572\n",
       "9       tri        548\n",
       "10  restaur        445\n",
       "11   delici        433\n",
       "12     best        418\n",
       "13   realli        417\n",
       "14     come        411\n",
       "15     amaz        395\n",
       "16  chicken        349\n",
       "17     nice        340\n",
       "18     menu        340\n",
       "19  definit        339"
      ]
     },
     "execution_count": 62,
     "metadata": {},
     "output_type": "execute_result"
    }
   ],
   "source": [
    "#High frequency stemmed words of good reviews\n",
    "#dont think stemming words gives good result\n",
    "porter_good = PorterStemmer()\n",
    "stemmed_tokens_good =[porter_good.stem(word) for word in tokens_good]\n",
    "stemmed_token_dist_good = FreqDist(stemmed_tokens_good)\n",
    "stemmed_dist_good = pd.DataFrame(stemmed_token_dist_good.most_common(20),columns=['Word', 'Frequency'])\n",
    "stemmed_dist_good"
   ]
  },
  {
   "cell_type": "code",
   "execution_count": 63,
   "metadata": {},
   "outputs": [
    {
     "data": {
      "text/html": [
       "<div>\n",
       "<style scoped>\n",
       "    .dataframe tbody tr th:only-of-type {\n",
       "        vertical-align: middle;\n",
       "    }\n",
       "\n",
       "    .dataframe tbody tr th {\n",
       "        vertical-align: top;\n",
       "    }\n",
       "\n",
       "    .dataframe thead th {\n",
       "        text-align: right;\n",
       "    }\n",
       "</style>\n",
       "<table border=\"1\" class=\"dataframe\">\n",
       "  <thead>\n",
       "    <tr style=\"text-align: right;\">\n",
       "      <th></th>\n",
       "      <th>Word</th>\n",
       "      <th>Frequency</th>\n",
       "    </tr>\n",
       "  </thead>\n",
       "  <tbody>\n",
       "    <tr>\n",
       "      <th>0</th>\n",
       "      <td>food</td>\n",
       "      <td>786</td>\n",
       "    </tr>\n",
       "    <tr>\n",
       "      <th>1</th>\n",
       "      <td>good</td>\n",
       "      <td>509</td>\n",
       "    </tr>\n",
       "    <tr>\n",
       "      <th>2</th>\n",
       "      <td>place</td>\n",
       "      <td>421</td>\n",
       "    </tr>\n",
       "    <tr>\n",
       "      <th>3</th>\n",
       "      <td>service</td>\n",
       "      <td>413</td>\n",
       "    </tr>\n",
       "    <tr>\n",
       "      <th>4</th>\n",
       "      <td>like</td>\n",
       "      <td>366</td>\n",
       "    </tr>\n",
       "    <tr>\n",
       "      <th>5</th>\n",
       "      <td>time</td>\n",
       "      <td>319</td>\n",
       "    </tr>\n",
       "    <tr>\n",
       "      <th>6</th>\n",
       "      <td>ordered</td>\n",
       "      <td>267</td>\n",
       "    </tr>\n",
       "    <tr>\n",
       "      <th>7</th>\n",
       "      <td>order</td>\n",
       "      <td>264</td>\n",
       "    </tr>\n",
       "    <tr>\n",
       "      <th>8</th>\n",
       "      <td>really</td>\n",
       "      <td>231</td>\n",
       "    </tr>\n",
       "    <tr>\n",
       "      <th>9</th>\n",
       "      <td>got</td>\n",
       "      <td>228</td>\n",
       "    </tr>\n",
       "    <tr>\n",
       "      <th>10</th>\n",
       "      <td>came</td>\n",
       "      <td>221</td>\n",
       "    </tr>\n",
       "    <tr>\n",
       "      <th>11</th>\n",
       "      <td>restaurant</td>\n",
       "      <td>215</td>\n",
       "    </tr>\n",
       "    <tr>\n",
       "      <th>12</th>\n",
       "      <td>chicken</td>\n",
       "      <td>189</td>\n",
       "    </tr>\n",
       "    <tr>\n",
       "      <th>13</th>\n",
       "      <td>great</td>\n",
       "      <td>184</td>\n",
       "    </tr>\n",
       "    <tr>\n",
       "      <th>14</th>\n",
       "      <td>went</td>\n",
       "      <td>173</td>\n",
       "    </tr>\n",
       "    <tr>\n",
       "      <th>15</th>\n",
       "      <td>table</td>\n",
       "      <td>167</td>\n",
       "    </tr>\n",
       "    <tr>\n",
       "      <th>16</th>\n",
       "      <td>minutes</td>\n",
       "      <td>159</td>\n",
       "    </tr>\n",
       "    <tr>\n",
       "      <th>17</th>\n",
       "      <td>better</td>\n",
       "      <td>154</td>\n",
       "    </tr>\n",
       "    <tr>\n",
       "      <th>18</th>\n",
       "      <td>people</td>\n",
       "      <td>147</td>\n",
       "    </tr>\n",
       "    <tr>\n",
       "      <th>19</th>\n",
       "      <td>nice</td>\n",
       "      <td>147</td>\n",
       "    </tr>\n",
       "  </tbody>\n",
       "</table>\n",
       "</div>"
      ],
      "text/plain": [
       "          Word  Frequency\n",
       "0         food        786\n",
       "1         good        509\n",
       "2        place        421\n",
       "3      service        413\n",
       "4         like        366\n",
       "5         time        319\n",
       "6      ordered        267\n",
       "7        order        264\n",
       "8       really        231\n",
       "9          got        228\n",
       "10        came        221\n",
       "11  restaurant        215\n",
       "12     chicken        189\n",
       "13       great        184\n",
       "14        went        173\n",
       "15       table        167\n",
       "16     minutes        159\n",
       "17      better        154\n",
       "18      people        147\n",
       "19        nice        147"
      ]
     },
     "execution_count": 63,
     "metadata": {},
     "output_type": "execute_result"
    }
   ],
   "source": [
    "#High frequency words of bad reviews, reviews that are less than 4\n",
    "BadInd = df1['review_stars'] < 4 # All reviews with more than 3.9 stars\n",
    "BadRev = df1[BadInd]\n",
    "full_text_bad = ' '.join(BadRev['text'])\n",
    "\n",
    "lower_full_text_bad = full_text_bad.lower()# all lower case\n",
    "word_tokens_bad = word_tokenize(lower_full_text_bad) #tokenizing all the words\n",
    "\n",
    "tokens_bad = list() \n",
    "for word in word_tokens_bad:\n",
    "    if word.isalpha() and word not in my_stop_words:#exclude all stop words\n",
    "        tokens_bad.append(word)\n",
    "        \n",
    "token_dist_bad = FreqDist(tokens_bad)\n",
    "dist_bad = pd.DataFrame(token_dist_bad.most_common(20),columns=['Word', 'Frequency'])\n",
    "dist_bad"
   ]
  },
  {
   "cell_type": "code",
   "execution_count": 64,
   "metadata": {},
   "outputs": [
    {
     "data": {
      "text/html": [
       "<div>\n",
       "<style scoped>\n",
       "    .dataframe tbody tr th:only-of-type {\n",
       "        vertical-align: middle;\n",
       "    }\n",
       "\n",
       "    .dataframe tbody tr th {\n",
       "        vertical-align: top;\n",
       "    }\n",
       "\n",
       "    .dataframe thead th {\n",
       "        text-align: right;\n",
       "    }\n",
       "</style>\n",
       "<table border=\"1\" class=\"dataframe\">\n",
       "  <thead>\n",
       "    <tr style=\"text-align: right;\">\n",
       "      <th></th>\n",
       "      <th>Word</th>\n",
       "      <th>Frequency</th>\n",
       "    </tr>\n",
       "  </thead>\n",
       "  <tbody>\n",
       "    <tr>\n",
       "      <th>0</th>\n",
       "      <td>food</td>\n",
       "      <td>793</td>\n",
       "    </tr>\n",
       "    <tr>\n",
       "      <th>1</th>\n",
       "      <td>order</td>\n",
       "      <td>605</td>\n",
       "    </tr>\n",
       "    <tr>\n",
       "      <th>2</th>\n",
       "      <td>good</td>\n",
       "      <td>518</td>\n",
       "    </tr>\n",
       "    <tr>\n",
       "      <th>3</th>\n",
       "      <td>place</td>\n",
       "      <td>497</td>\n",
       "    </tr>\n",
       "    <tr>\n",
       "      <th>4</th>\n",
       "      <td>time</td>\n",
       "      <td>424</td>\n",
       "    </tr>\n",
       "    <tr>\n",
       "      <th>5</th>\n",
       "      <td>servic</td>\n",
       "      <td>422</td>\n",
       "    </tr>\n",
       "    <tr>\n",
       "      <th>6</th>\n",
       "      <td>like</td>\n",
       "      <td>401</td>\n",
       "    </tr>\n",
       "    <tr>\n",
       "      <th>7</th>\n",
       "      <td>restaur</td>\n",
       "      <td>257</td>\n",
       "    </tr>\n",
       "    <tr>\n",
       "      <th>8</th>\n",
       "      <td>tabl</td>\n",
       "      <td>241</td>\n",
       "    </tr>\n",
       "    <tr>\n",
       "      <th>9</th>\n",
       "      <td>tri</td>\n",
       "      <td>239</td>\n",
       "    </tr>\n",
       "    <tr>\n",
       "      <th>10</th>\n",
       "      <td>wait</td>\n",
       "      <td>232</td>\n",
       "    </tr>\n",
       "    <tr>\n",
       "      <th>11</th>\n",
       "      <td>realli</td>\n",
       "      <td>231</td>\n",
       "    </tr>\n",
       "    <tr>\n",
       "      <th>12</th>\n",
       "      <td>got</td>\n",
       "      <td>228</td>\n",
       "    </tr>\n",
       "    <tr>\n",
       "      <th>13</th>\n",
       "      <td>came</td>\n",
       "      <td>221</td>\n",
       "    </tr>\n",
       "    <tr>\n",
       "      <th>14</th>\n",
       "      <td>come</td>\n",
       "      <td>220</td>\n",
       "    </tr>\n",
       "    <tr>\n",
       "      <th>15</th>\n",
       "      <td>ask</td>\n",
       "      <td>217</td>\n",
       "    </tr>\n",
       "    <tr>\n",
       "      <th>16</th>\n",
       "      <td>eat</td>\n",
       "      <td>206</td>\n",
       "    </tr>\n",
       "    <tr>\n",
       "      <th>17</th>\n",
       "      <td>want</td>\n",
       "      <td>191</td>\n",
       "    </tr>\n",
       "    <tr>\n",
       "      <th>18</th>\n",
       "      <td>chicken</td>\n",
       "      <td>190</td>\n",
       "    </tr>\n",
       "    <tr>\n",
       "      <th>19</th>\n",
       "      <td>drink</td>\n",
       "      <td>190</td>\n",
       "    </tr>\n",
       "  </tbody>\n",
       "</table>\n",
       "</div>"
      ],
      "text/plain": [
       "       Word  Frequency\n",
       "0      food        793\n",
       "1     order        605\n",
       "2      good        518\n",
       "3     place        497\n",
       "4      time        424\n",
       "5    servic        422\n",
       "6      like        401\n",
       "7   restaur        257\n",
       "8      tabl        241\n",
       "9       tri        239\n",
       "10     wait        232\n",
       "11   realli        231\n",
       "12      got        228\n",
       "13     came        221\n",
       "14     come        220\n",
       "15      ask        217\n",
       "16      eat        206\n",
       "17     want        191\n",
       "18  chicken        190\n",
       "19    drink        190"
      ]
     },
     "execution_count": 64,
     "metadata": {},
     "output_type": "execute_result"
    }
   ],
   "source": [
    "#High frequency stemmed words of bad reviews\n",
    "porter_bad = PorterStemmer()\n",
    "stemmed_tokens_bad =[porter_bad.stem(word) for word in tokens_bad]\n",
    "stemmed_token_dist_bad = FreqDist(stemmed_tokens_bad)\n",
    "stemmed_dist_bad = pd.DataFrame(stemmed_token_dist_bad.most_common(20),columns=['Word', 'Frequency'])\n",
    "stemmed_dist_bad"
   ]
  },
  {
   "cell_type": "code",
   "execution_count": 65,
   "metadata": {},
   "outputs": [
    {
     "name": "stderr",
     "output_type": "stream",
     "text": [
      "/usr/local/lib/python3.8/site-packages/sklearn/feature_extraction/text.py:383: UserWarning: Your stop_words may be inconsistent with your preprocessing. Tokenizing the stop words generated tokens ['iam', 'ive'] not in stop_words.\n",
      "  warnings.warn('Your stop_words may be inconsistent with '\n"
     ]
    },
    {
     "data": {
      "text/html": [
       "<div>\n",
       "<style scoped>\n",
       "    .dataframe tbody tr th:only-of-type {\n",
       "        vertical-align: middle;\n",
       "    }\n",
       "\n",
       "    .dataframe tbody tr th {\n",
       "        vertical-align: top;\n",
       "    }\n",
       "\n",
       "    .dataframe thead th {\n",
       "        text-align: right;\n",
       "    }\n",
       "</style>\n",
       "<table border=\"1\" class=\"dataframe\">\n",
       "  <thead>\n",
       "    <tr style=\"text-align: right;\">\n",
       "      <th></th>\n",
       "      <th>bigram</th>\n",
       "      <th>frequency</th>\n",
       "    </tr>\n",
       "  </thead>\n",
       "  <tbody>\n",
       "    <tr>\n",
       "      <th>29530</th>\n",
       "      <td>food good</td>\n",
       "      <td>119</td>\n",
       "    </tr>\n",
       "    <tr>\n",
       "      <th>38511</th>\n",
       "      <td>ice cream</td>\n",
       "      <td>110</td>\n",
       "    </tr>\n",
       "    <tr>\n",
       "      <th>62643</th>\n",
       "      <td>really good</td>\n",
       "      <td>99</td>\n",
       "    </tr>\n",
       "    <tr>\n",
       "      <th>29535</th>\n",
       "      <td>food great</td>\n",
       "      <td>88</td>\n",
       "    </tr>\n",
       "    <tr>\n",
       "      <th>34743</th>\n",
       "      <td>great service</td>\n",
       "      <td>86</td>\n",
       "    </tr>\n",
       "    <tr>\n",
       "      <th>36947</th>\n",
       "      <td>highly recommend</td>\n",
       "      <td>86</td>\n",
       "    </tr>\n",
       "    <tr>\n",
       "      <th>60328</th>\n",
       "      <td>pretty good</td>\n",
       "      <td>85</td>\n",
       "    </tr>\n",
       "    <tr>\n",
       "      <th>34519</th>\n",
       "      <td>great food</td>\n",
       "      <td>81</td>\n",
       "    </tr>\n",
       "    <tr>\n",
       "      <th>33242</th>\n",
       "      <td>good food</td>\n",
       "      <td>75</td>\n",
       "    </tr>\n",
       "    <tr>\n",
       "      <th>18700</th>\n",
       "      <td>customer service</td>\n",
       "      <td>75</td>\n",
       "    </tr>\n",
       "    <tr>\n",
       "      <th>69860</th>\n",
       "      <td>service great</td>\n",
       "      <td>68</td>\n",
       "    </tr>\n",
       "    <tr>\n",
       "      <th>34676</th>\n",
       "      <td>great place</td>\n",
       "      <td>63</td>\n",
       "    </tr>\n",
       "    <tr>\n",
       "      <th>29835</th>\n",
       "      <td>food service</td>\n",
       "      <td>61</td>\n",
       "    </tr>\n",
       "    <tr>\n",
       "      <th>45416</th>\n",
       "      <td>love place</td>\n",
       "      <td>58</td>\n",
       "    </tr>\n",
       "    <tr>\n",
       "      <th>33552</th>\n",
       "      <td>good service</td>\n",
       "      <td>54</td>\n",
       "    </tr>\n",
       "    <tr>\n",
       "      <th>36061</th>\n",
       "      <td>happy hour</td>\n",
       "      <td>54</td>\n",
       "    </tr>\n",
       "    <tr>\n",
       "      <th>69857</th>\n",
       "      <td>service good</td>\n",
       "      <td>53</td>\n",
       "    </tr>\n",
       "    <tr>\n",
       "      <th>21142</th>\n",
       "      <td>dim sum</td>\n",
       "      <td>53</td>\n",
       "    </tr>\n",
       "    <tr>\n",
       "      <th>30856</th>\n",
       "      <td>fried rice</td>\n",
       "      <td>51</td>\n",
       "    </tr>\n",
       "    <tr>\n",
       "      <th>74214</th>\n",
       "      <td>staff friendly</td>\n",
       "      <td>49</td>\n",
       "    </tr>\n",
       "  </tbody>\n",
       "</table>\n",
       "</div>"
      ],
      "text/plain": [
       "                 bigram  frequency\n",
       "29530         food good        119\n",
       "38511         ice cream        110\n",
       "62643       really good         99\n",
       "29535        food great         88\n",
       "34743     great service         86\n",
       "36947  highly recommend         86\n",
       "60328       pretty good         85\n",
       "34519        great food         81\n",
       "33242         good food         75\n",
       "18700  customer service         75\n",
       "69860     service great         68\n",
       "34676       great place         63\n",
       "29835      food service         61\n",
       "45416        love place         58\n",
       "33552      good service         54\n",
       "36061        happy hour         54\n",
       "69857      service good         53\n",
       "21142           dim sum         53\n",
       "30856        fried rice         51\n",
       "74214    staff friendly         49"
      ]
     },
     "execution_count": 65,
     "metadata": {},
     "output_type": "execute_result"
    }
   ],
   "source": [
    "#most frequent bi-grams of all reviews\n",
    "from sklearn.feature_extraction.text import CountVectorizer\n",
    "\n",
    "vect = CountVectorizer(stop_words=my_stop_words, ngram_range=(2,2))#exclude stop words\n",
    "\n",
    "bigrams = vect.fit_transform(df1['text'])\n",
    "bigram_df = pd.DataFrame(bigrams.toarray(), columns=vect.get_feature_names())\n",
    "bigram_frequency = pd.DataFrame(bigram_df.sum(axis=0)).reset_index()\n",
    "bigram_frequency.columns = ['bigram', 'frequency']\n",
    "bigram_frequency = bigram_frequency.sort_values(by='frequency', ascending=False).head(20)\n",
    "bigram_frequency"
   ]
  },
  {
   "cell_type": "code",
   "execution_count": 66,
   "metadata": {},
   "outputs": [
    {
     "name": "stderr",
     "output_type": "stream",
     "text": [
      "/usr/local/lib/python3.8/site-packages/sklearn/feature_extraction/text.py:383: UserWarning: Your stop_words may be inconsistent with your preprocessing. Tokenizing the stop words generated tokens ['iam', 'ive'] not in stop_words.\n",
      "  warnings.warn('Your stop_words may be inconsistent with '\n"
     ]
    },
    {
     "data": {
      "text/html": [
       "<div>\n",
       "<style scoped>\n",
       "    .dataframe tbody tr th:only-of-type {\n",
       "        vertical-align: middle;\n",
       "    }\n",
       "\n",
       "    .dataframe tbody tr th {\n",
       "        vertical-align: top;\n",
       "    }\n",
       "\n",
       "    .dataframe thead th {\n",
       "        text-align: right;\n",
       "    }\n",
       "</style>\n",
       "<table border=\"1\" class=\"dataframe\">\n",
       "  <thead>\n",
       "    <tr style=\"text-align: right;\">\n",
       "      <th></th>\n",
       "      <th>bigram</th>\n",
       "      <th>frequency</th>\n",
       "    </tr>\n",
       "  </thead>\n",
       "  <tbody>\n",
       "    <tr>\n",
       "      <th>25638</th>\n",
       "      <td>ice cream</td>\n",
       "      <td>82</td>\n",
       "    </tr>\n",
       "    <tr>\n",
       "      <th>24598</th>\n",
       "      <td>highly recommend</td>\n",
       "      <td>81</td>\n",
       "    </tr>\n",
       "    <tr>\n",
       "      <th>41410</th>\n",
       "      <td>really good</td>\n",
       "      <td>78</td>\n",
       "    </tr>\n",
       "    <tr>\n",
       "      <th>22976</th>\n",
       "      <td>great food</td>\n",
       "      <td>75</td>\n",
       "    </tr>\n",
       "    <tr>\n",
       "      <th>23178</th>\n",
       "      <td>great service</td>\n",
       "      <td>75</td>\n",
       "    </tr>\n",
       "    <tr>\n",
       "      <th>19453</th>\n",
       "      <td>food great</td>\n",
       "      <td>74</td>\n",
       "    </tr>\n",
       "    <tr>\n",
       "      <th>19448</th>\n",
       "      <td>food good</td>\n",
       "      <td>70</td>\n",
       "    </tr>\n",
       "    <tr>\n",
       "      <th>46031</th>\n",
       "      <td>service great</td>\n",
       "      <td>62</td>\n",
       "    </tr>\n",
       "    <tr>\n",
       "      <th>23115</th>\n",
       "      <td>great place</td>\n",
       "      <td>56</td>\n",
       "    </tr>\n",
       "    <tr>\n",
       "      <th>30150</th>\n",
       "      <td>love place</td>\n",
       "      <td>54</td>\n",
       "    </tr>\n",
       "    <tr>\n",
       "      <th>22049</th>\n",
       "      <td>good food</td>\n",
       "      <td>52</td>\n",
       "    </tr>\n",
       "    <tr>\n",
       "      <th>24024</th>\n",
       "      <td>happy hour</td>\n",
       "      <td>44</td>\n",
       "    </tr>\n",
       "    <tr>\n",
       "      <th>12244</th>\n",
       "      <td>customer service</td>\n",
       "      <td>43</td>\n",
       "    </tr>\n",
       "    <tr>\n",
       "      <th>48920</th>\n",
       "      <td>staff friendly</td>\n",
       "      <td>42</td>\n",
       "    </tr>\n",
       "    <tr>\n",
       "      <th>39947</th>\n",
       "      <td>pretty good</td>\n",
       "      <td>40</td>\n",
       "    </tr>\n",
       "    <tr>\n",
       "      <th>19639</th>\n",
       "      <td>food service</td>\n",
       "      <td>39</td>\n",
       "    </tr>\n",
       "    <tr>\n",
       "      <th>41752</th>\n",
       "      <td>recommend place</td>\n",
       "      <td>39</td>\n",
       "    </tr>\n",
       "    <tr>\n",
       "      <th>22285</th>\n",
       "      <td>good service</td>\n",
       "      <td>37</td>\n",
       "    </tr>\n",
       "    <tr>\n",
       "      <th>46028</th>\n",
       "      <td>service good</td>\n",
       "      <td>36</td>\n",
       "    </tr>\n",
       "    <tr>\n",
       "      <th>27782</th>\n",
       "      <td>las vegas</td>\n",
       "      <td>36</td>\n",
       "    </tr>\n",
       "  </tbody>\n",
       "</table>\n",
       "</div>"
      ],
      "text/plain": [
       "                 bigram  frequency\n",
       "25638         ice cream         82\n",
       "24598  highly recommend         81\n",
       "41410       really good         78\n",
       "22976        great food         75\n",
       "23178     great service         75\n",
       "19453        food great         74\n",
       "19448         food good         70\n",
       "46031     service great         62\n",
       "23115       great place         56\n",
       "30150        love place         54\n",
       "22049         good food         52\n",
       "24024        happy hour         44\n",
       "12244  customer service         43\n",
       "48920    staff friendly         42\n",
       "39947       pretty good         40\n",
       "19639      food service         39\n",
       "41752   recommend place         39\n",
       "22285      good service         37\n",
       "46028      service good         36\n",
       "27782         las vegas         36"
      ]
     },
     "execution_count": 66,
     "metadata": {},
     "output_type": "execute_result"
    }
   ],
   "source": [
    "#bi-gram of good reviews\n",
    "vect = CountVectorizer(stop_words=my_stop_words, ngram_range=(2,2))#exclude stop words\n",
    "\n",
    "bigrams_good = vect.fit_transform(GoodRev['text'])\n",
    "\n",
    "\n",
    "bigram_df_good = pd.DataFrame(bigrams_good.toarray(), columns=vect.get_feature_names())\n",
    "bigram_frequency_good = pd.DataFrame(bigram_df_good.sum(axis=0)).reset_index()\n",
    "bigram_frequency_good.columns = ['bigram', 'frequency']\n",
    "bigram_frequency_good = bigram_frequency_good.sort_values(by='frequency', ascending=False).head(20)\n",
    "bigram_frequency_good"
   ]
  },
  {
   "cell_type": "code",
   "execution_count": 67,
   "metadata": {},
   "outputs": [
    {
     "name": "stderr",
     "output_type": "stream",
     "text": [
      "/usr/local/lib/python3.8/site-packages/sklearn/feature_extraction/text.py:383: UserWarning: Your stop_words may be inconsistent with your preprocessing. Tokenizing the stop words generated tokens ['iam', 'ive'] not in stop_words.\n",
      "  warnings.warn('Your stop_words may be inconsistent with '\n"
     ]
    },
    {
     "data": {
      "text/html": [
       "<div>\n",
       "<style scoped>\n",
       "    .dataframe tbody tr th:only-of-type {\n",
       "        vertical-align: middle;\n",
       "    }\n",
       "\n",
       "    .dataframe tbody tr th {\n",
       "        vertical-align: top;\n",
       "    }\n",
       "\n",
       "    .dataframe thead th {\n",
       "        text-align: right;\n",
       "    }\n",
       "</style>\n",
       "<table border=\"1\" class=\"dataframe\">\n",
       "  <thead>\n",
       "    <tr style=\"text-align: right;\">\n",
       "      <th></th>\n",
       "      <th>bigram</th>\n",
       "      <th>frequency</th>\n",
       "    </tr>\n",
       "  </thead>\n",
       "  <tbody>\n",
       "    <tr>\n",
       "      <th>11518</th>\n",
       "      <td>food good</td>\n",
       "      <td>49</td>\n",
       "    </tr>\n",
       "    <tr>\n",
       "      <th>23806</th>\n",
       "      <td>pretty good</td>\n",
       "      <td>45</td>\n",
       "    </tr>\n",
       "    <tr>\n",
       "      <th>7339</th>\n",
       "      <td>customer service</td>\n",
       "      <td>32</td>\n",
       "    </tr>\n",
       "    <tr>\n",
       "      <th>67</th>\n",
       "      <td>10 minutes</td>\n",
       "      <td>30</td>\n",
       "    </tr>\n",
       "    <tr>\n",
       "      <th>15049</th>\n",
       "      <td>ice cream</td>\n",
       "      <td>28</td>\n",
       "    </tr>\n",
       "    <tr>\n",
       "      <th>31179</th>\n",
       "      <td>tasted like</td>\n",
       "      <td>26</td>\n",
       "    </tr>\n",
       "    <tr>\n",
       "      <th>17471</th>\n",
       "      <td>long time</td>\n",
       "      <td>24</td>\n",
       "    </tr>\n",
       "    <tr>\n",
       "      <th>12062</th>\n",
       "      <td>fried rice</td>\n",
       "      <td>24</td>\n",
       "    </tr>\n",
       "    <tr>\n",
       "      <th>12947</th>\n",
       "      <td>good food</td>\n",
       "      <td>23</td>\n",
       "    </tr>\n",
       "    <tr>\n",
       "      <th>10788</th>\n",
       "      <td>feel like</td>\n",
       "      <td>23</td>\n",
       "    </tr>\n",
       "    <tr>\n",
       "      <th>11689</th>\n",
       "      <td>food service</td>\n",
       "      <td>22</td>\n",
       "    </tr>\n",
       "    <tr>\n",
       "      <th>10683</th>\n",
       "      <td>fast food</td>\n",
       "      <td>22</td>\n",
       "    </tr>\n",
       "    <tr>\n",
       "      <th>176</th>\n",
       "      <td>15 minutes</td>\n",
       "      <td>21</td>\n",
       "    </tr>\n",
       "    <tr>\n",
       "      <th>24798</th>\n",
       "      <td>really good</td>\n",
       "      <td>21</td>\n",
       "    </tr>\n",
       "    <tr>\n",
       "      <th>239</th>\n",
       "      <td>20 minutes</td>\n",
       "      <td>21</td>\n",
       "    </tr>\n",
       "    <tr>\n",
       "      <th>5652</th>\n",
       "      <td>chips salsa</td>\n",
       "      <td>21</td>\n",
       "    </tr>\n",
       "    <tr>\n",
       "      <th>8189</th>\n",
       "      <td>dim sum</td>\n",
       "      <td>18</td>\n",
       "    </tr>\n",
       "    <tr>\n",
       "      <th>13091</th>\n",
       "      <td>good service</td>\n",
       "      <td>17</td>\n",
       "    </tr>\n",
       "    <tr>\n",
       "      <th>27814</th>\n",
       "      <td>service good</td>\n",
       "      <td>17</td>\n",
       "    </tr>\n",
       "    <tr>\n",
       "      <th>11417</th>\n",
       "      <td>food came</td>\n",
       "      <td>17</td>\n",
       "    </tr>\n",
       "  </tbody>\n",
       "</table>\n",
       "</div>"
      ],
      "text/plain": [
       "                 bigram  frequency\n",
       "11518         food good         49\n",
       "23806       pretty good         45\n",
       "7339   customer service         32\n",
       "67           10 minutes         30\n",
       "15049         ice cream         28\n",
       "31179       tasted like         26\n",
       "17471         long time         24\n",
       "12062        fried rice         24\n",
       "12947         good food         23\n",
       "10788         feel like         23\n",
       "11689      food service         22\n",
       "10683         fast food         22\n",
       "176          15 minutes         21\n",
       "24798       really good         21\n",
       "239          20 minutes         21\n",
       "5652        chips salsa         21\n",
       "8189            dim sum         18\n",
       "13091      good service         17\n",
       "27814      service good         17\n",
       "11417         food came         17"
      ]
     },
     "execution_count": 67,
     "metadata": {},
     "output_type": "execute_result"
    }
   ],
   "source": [
    "#bi-gram of bad reviews\n",
    "vect = CountVectorizer(stop_words=my_stop_words, ngram_range=(2,2))#exclude stop words\n",
    "\n",
    "bigrams_bad = vect.fit_transform(BadRev['text'])\n",
    "\n",
    "\n",
    "bigram_df_bad = pd.DataFrame(bigrams_bad.toarray(), columns=vect.get_feature_names())\n",
    "bigram_frequency_bad = pd.DataFrame(bigram_df_bad.sum(axis=0)).reset_index()\n",
    "bigram_frequency_bad.columns = ['bigram', 'frequency']\n",
    "bigram_frequency_bad = bigram_frequency_bad.sort_values(by='frequency', ascending=False).head(20)\n",
    "bigram_frequency_bad"
   ]
  },
  {
   "cell_type": "code",
   "execution_count": 68,
   "metadata": {},
   "outputs": [
    {
     "name": "stderr",
     "output_type": "stream",
     "text": [
      "/usr/local/lib/python3.8/site-packages/sklearn/feature_extraction/text.py:383: UserWarning: Your stop_words may be inconsistent with your preprocessing. Tokenizing the stop words generated tokens ['iam', 'ive'] not in stop_words.\n",
      "  warnings.warn('Your stop_words may be inconsistent with '\n"
     ]
    },
    {
     "data": {
      "text/html": [
       "<div>\n",
       "<style scoped>\n",
       "    .dataframe tbody tr th:only-of-type {\n",
       "        vertical-align: middle;\n",
       "    }\n",
       "\n",
       "    .dataframe tbody tr th {\n",
       "        vertical-align: top;\n",
       "    }\n",
       "\n",
       "    .dataframe thead th {\n",
       "        text-align: right;\n",
       "    }\n",
       "</style>\n",
       "<table border=\"1\" class=\"dataframe\">\n",
       "  <thead>\n",
       "    <tr style=\"text-align: right;\">\n",
       "      <th></th>\n",
       "      <th>trigram</th>\n",
       "      <th>frequency</th>\n",
       "    </tr>\n",
       "  </thead>\n",
       "  <tbody>\n",
       "    <tr>\n",
       "      <th>12972</th>\n",
       "      <td>food pretty good</td>\n",
       "      <td>13</td>\n",
       "    </tr>\n",
       "    <tr>\n",
       "      <th>15875</th>\n",
       "      <td>hand pulled noodles</td>\n",
       "      <td>6</td>\n",
       "    </tr>\n",
       "    <tr>\n",
       "      <th>28184</th>\n",
       "      <td>really wanted like</td>\n",
       "      <td>6</td>\n",
       "    </tr>\n",
       "    <tr>\n",
       "      <th>39012</th>\n",
       "      <td>wanted like place</td>\n",
       "      <td>6</td>\n",
       "    </tr>\n",
       "    <tr>\n",
       "      <th>38527</th>\n",
       "      <td>waited 10 minutes</td>\n",
       "      <td>6</td>\n",
       "    </tr>\n",
       "    <tr>\n",
       "      <th>40381</th>\n",
       "      <td>yes yes yes</td>\n",
       "      <td>5</td>\n",
       "    </tr>\n",
       "    <tr>\n",
       "      <th>16717</th>\n",
       "      <td>hot sour soup</td>\n",
       "      <td>5</td>\n",
       "    </tr>\n",
       "    <tr>\n",
       "      <th>39117</th>\n",
       "      <td>waste time money</td>\n",
       "      <td>4</td>\n",
       "    </tr>\n",
       "    <tr>\n",
       "      <th>24315</th>\n",
       "      <td>overall food good</td>\n",
       "      <td>4</td>\n",
       "    </tr>\n",
       "    <tr>\n",
       "      <th>26905</th>\n",
       "      <td>pretty good food</td>\n",
       "      <td>4</td>\n",
       "    </tr>\n",
       "    <tr>\n",
       "      <th>38556</th>\n",
       "      <td>waited long time</td>\n",
       "      <td>4</td>\n",
       "    </tr>\n",
       "    <tr>\n",
       "      <th>30519</th>\n",
       "      <td>savory stuffed dumplings</td>\n",
       "      <td>4</td>\n",
       "    </tr>\n",
       "    <tr>\n",
       "      <th>38531</th>\n",
       "      <td>waited 20 minutes</td>\n",
       "      <td>4</td>\n",
       "    </tr>\n",
       "    <tr>\n",
       "      <th>38435</th>\n",
       "      <td>wait 10 minutes</td>\n",
       "      <td>4</td>\n",
       "    </tr>\n",
       "    <tr>\n",
       "      <th>322</th>\n",
       "      <td>20 minute wait</td>\n",
       "      <td>4</td>\n",
       "    </tr>\n",
       "    <tr>\n",
       "      <th>13372</th>\n",
       "      <td>french onion soup</td>\n",
       "      <td>4</td>\n",
       "    </tr>\n",
       "    <tr>\n",
       "      <th>12771</th>\n",
       "      <td>food good quality</td>\n",
       "      <td>4</td>\n",
       "    </tr>\n",
       "    <tr>\n",
       "      <th>12775</th>\n",
       "      <td>food good service</td>\n",
       "      <td>4</td>\n",
       "    </tr>\n",
       "    <tr>\n",
       "      <th>17042</th>\n",
       "      <td>ice cream sandwich</td>\n",
       "      <td>4</td>\n",
       "    </tr>\n",
       "    <tr>\n",
       "      <th>28098</th>\n",
       "      <td>really looking forward</td>\n",
       "      <td>4</td>\n",
       "    </tr>\n",
       "  </tbody>\n",
       "</table>\n",
       "</div>"
      ],
      "text/plain": [
       "                        trigram  frequency\n",
       "12972          food pretty good         13\n",
       "15875       hand pulled noodles          6\n",
       "28184        really wanted like          6\n",
       "39012         wanted like place          6\n",
       "38527         waited 10 minutes          6\n",
       "40381               yes yes yes          5\n",
       "16717             hot sour soup          5\n",
       "39117          waste time money          4\n",
       "24315         overall food good          4\n",
       "26905          pretty good food          4\n",
       "38556          waited long time          4\n",
       "30519  savory stuffed dumplings          4\n",
       "38531         waited 20 minutes          4\n",
       "38435           wait 10 minutes          4\n",
       "322              20 minute wait          4\n",
       "13372         french onion soup          4\n",
       "12771         food good quality          4\n",
       "12775         food good service          4\n",
       "17042        ice cream sandwich          4\n",
       "28098    really looking forward          4"
      ]
     },
     "execution_count": 68,
     "metadata": {},
     "output_type": "execute_result"
    }
   ],
   "source": [
    "#tri-gram of bad reviews\n",
    "vect = CountVectorizer(stop_words=my_stop_words, ngram_range=(3,3))#exclude stop words\n",
    "\n",
    "trigrams_bad = vect.fit_transform(BadRev['text'])\n",
    "\n",
    "\n",
    "trigram_df_bad = pd.DataFrame(trigrams_bad.toarray(), columns=vect.get_feature_names())\n",
    "trigram_frequency_bad = pd.DataFrame(trigram_df_bad.sum(axis=0)).reset_index()\n",
    "trigram_frequency_bad.columns = ['trigram', 'frequency']\n",
    "trigram_frequency_bad = trigram_frequency_bad.sort_values(by='frequency', ascending=False).head(20)\n",
    "trigram_frequency_bad"
   ]
  },
  {
   "cell_type": "code",
   "execution_count": 69,
   "metadata": {},
   "outputs": [
    {
     "name": "stderr",
     "output_type": "stream",
     "text": [
      "/usr/local/lib/python3.8/site-packages/sklearn/feature_extraction/text.py:383: UserWarning: Your stop_words may be inconsistent with your preprocessing. Tokenizing the stop words generated tokens ['iam', 'ive'] not in stop_words.\n",
      "  warnings.warn('Your stop_words may be inconsistent with '\n"
     ]
    },
    {
     "data": {
      "text/html": [
       "<div>\n",
       "<style scoped>\n",
       "    .dataframe tbody tr th:only-of-type {\n",
       "        vertical-align: middle;\n",
       "    }\n",
       "\n",
       "    .dataframe tbody tr th {\n",
       "        vertical-align: top;\n",
       "    }\n",
       "\n",
       "    .dataframe thead th {\n",
       "        text-align: right;\n",
       "    }\n",
       "</style>\n",
       "<table border=\"1\" class=\"dataframe\">\n",
       "  <thead>\n",
       "    <tr style=\"text-align: right;\">\n",
       "      <th></th>\n",
       "      <th>trigram</th>\n",
       "      <th>frequency</th>\n",
       "    </tr>\n",
       "  </thead>\n",
       "  <tbody>\n",
       "    <tr>\n",
       "      <th>27697</th>\n",
       "      <td>great food great</td>\n",
       "      <td>19</td>\n",
       "    </tr>\n",
       "    <tr>\n",
       "      <th>22817</th>\n",
       "      <td>food great service</td>\n",
       "      <td>18</td>\n",
       "    </tr>\n",
       "    <tr>\n",
       "      <th>29911</th>\n",
       "      <td>highly recommend place</td>\n",
       "      <td>15</td>\n",
       "    </tr>\n",
       "    <tr>\n",
       "      <th>36370</th>\n",
       "      <td>love love love</td>\n",
       "      <td>11</td>\n",
       "    </tr>\n",
       "    <tr>\n",
       "      <th>23659</th>\n",
       "      <td>french onion soup</td>\n",
       "      <td>10</td>\n",
       "    </tr>\n",
       "    <tr>\n",
       "      <th>22766</th>\n",
       "      <td>food good service</td>\n",
       "      <td>10</td>\n",
       "    </tr>\n",
       "    <tr>\n",
       "      <th>12903</th>\n",
       "      <td>corned beef hash</td>\n",
       "      <td>9</td>\n",
       "    </tr>\n",
       "    <tr>\n",
       "      <th>15101</th>\n",
       "      <td>definitely recommend place</td>\n",
       "      <td>7</td>\n",
       "    </tr>\n",
       "    <tr>\n",
       "      <th>27710</th>\n",
       "      <td>great food service</td>\n",
       "      <td>7</td>\n",
       "    </tr>\n",
       "    <tr>\n",
       "      <th>43298</th>\n",
       "      <td>overall good experience</td>\n",
       "      <td>7</td>\n",
       "    </tr>\n",
       "    <tr>\n",
       "      <th>55464</th>\n",
       "      <td>service great food</td>\n",
       "      <td>7</td>\n",
       "    </tr>\n",
       "    <tr>\n",
       "      <th>61164</th>\n",
       "      <td>sweet potato fries</td>\n",
       "      <td>7</td>\n",
       "    </tr>\n",
       "    <tr>\n",
       "      <th>27592</th>\n",
       "      <td>great customer service</td>\n",
       "      <td>7</td>\n",
       "    </tr>\n",
       "    <tr>\n",
       "      <th>55338</th>\n",
       "      <td>service excellent food</td>\n",
       "      <td>6</td>\n",
       "    </tr>\n",
       "    <tr>\n",
       "      <th>43307</th>\n",
       "      <td>overall great experience</td>\n",
       "      <td>6</td>\n",
       "    </tr>\n",
       "    <tr>\n",
       "      <th>26259</th>\n",
       "      <td>good food good</td>\n",
       "      <td>6</td>\n",
       "    </tr>\n",
       "    <tr>\n",
       "      <th>26260</th>\n",
       "      <td>good food great</td>\n",
       "      <td>6</td>\n",
       "    </tr>\n",
       "    <tr>\n",
       "      <th>58928</th>\n",
       "      <td>staff super friendly</td>\n",
       "      <td>6</td>\n",
       "    </tr>\n",
       "    <tr>\n",
       "      <th>54544</th>\n",
       "      <td>seated right away</td>\n",
       "      <td>6</td>\n",
       "    </tr>\n",
       "    <tr>\n",
       "      <th>19576</th>\n",
       "      <td>excellent customer service</td>\n",
       "      <td>6</td>\n",
       "    </tr>\n",
       "  </tbody>\n",
       "</table>\n",
       "</div>"
      ],
      "text/plain": [
       "                          trigram  frequency\n",
       "27697            great food great         19\n",
       "22817          food great service         18\n",
       "29911      highly recommend place         15\n",
       "36370              love love love         11\n",
       "23659           french onion soup         10\n",
       "22766           food good service         10\n",
       "12903            corned beef hash          9\n",
       "15101  definitely recommend place          7\n",
       "27710          great food service          7\n",
       "43298     overall good experience          7\n",
       "55464          service great food          7\n",
       "61164          sweet potato fries          7\n",
       "27592      great customer service          7\n",
       "55338      service excellent food          6\n",
       "43307    overall great experience          6\n",
       "26259              good food good          6\n",
       "26260             good food great          6\n",
       "58928        staff super friendly          6\n",
       "54544           seated right away          6\n",
       "19576  excellent customer service          6"
      ]
     },
     "execution_count": 69,
     "metadata": {},
     "output_type": "execute_result"
    }
   ],
   "source": [
    "#tri-gram of good reviews\n",
    "vect = CountVectorizer(stop_words=my_stop_words, ngram_range=(3,3))#exclude stop words\n",
    "\n",
    "trigrams_good = vect.fit_transform(GoodRev['text'])\n",
    "\n",
    "\n",
    "trigram_df_good = pd.DataFrame(trigrams_good.toarray(), columns=vect.get_feature_names())\n",
    "trigram_frequency_good = pd.DataFrame(trigram_df_good.sum(axis=0)).reset_index()\n",
    "trigram_frequency_good.columns = ['trigram', 'frequency']\n",
    "trigram_frequency_good = trigram_frequency_good.sort_values(by='frequency', ascending=False).head(20)\n",
    "trigram_frequency_good"
   ]
  },
  {
   "cell_type": "code",
   "execution_count": 70,
   "metadata": {},
   "outputs": [
    {
     "name": "stdout",
     "output_type": "stream",
     "text": [
      "orite (sentimental) ice cream spot in al\n",
      "t to go in and have ice cream.  Great me\n",
      "zing. Old fashioned ice cream parlor and\n",
      "I say!? Cool, retro ice cream shoppe! Be\n",
      "f their hand packed ice cream!They off\n",
      "h were subpar.  Our ice cream desserts h\n",
      "y liked the brownie ice cream, despite t\n",
      "t place to go on an ice cream date!\n",
      "\n",
      "fer free drinks and ice cream while take\n",
      "3 scoops of vanilla ice cream on top. Be\n",
      "alads, fruit bowls, ice cream, etc. stop\n",
      "t not including the ice cream. Other tha\n",
      " mochi or green tea ice cream, but hey i\n",
      "s, pies and thrifty ice cream.\n",
      "  We also ordered ice cream for desser\n",
      "e with black sesame ice cream.\n",
      "tastes like vanilla ice cream but melted\n",
      "ancakes because the ice cream was meltin\n",
      "ove this place! The ice cream is delicio\n"
     ]
    }
   ],
   "source": [
    "#Looking at sentences with certain words. Noticed a lot of reviews with ice-cream\n",
    "reviews_containing_good = [each for each in GoodRev.text if 'ice cream' in each]\n",
    "for review in reviews_containing_good[:20]:\n",
    "    good_index = review.find(\"ice cream\")\n",
    "    print(review[good_index-20:good_index+20].replace(\"\\n\", \"\"))"
   ]
  },
  {
   "cell_type": "markdown",
   "metadata": {},
   "source": [
    "## Data Cleaning"
   ]
  },
  {
   "cell_type": "code",
   "execution_count": 135,
   "metadata": {},
   "outputs": [],
   "source": [
    "df1 = final[['review_stars', 'text']]"
   ]
  },
  {
   "cell_type": "code",
   "execution_count": 136,
   "metadata": {},
   "outputs": [
    {
     "name": "stderr",
     "output_type": "stream",
     "text": [
      "<ipython-input-136-baa5de670b24>:7: SettingWithCopyWarning: \n",
      "A value is trying to be set on a copy of a slice from a DataFrame.\n",
      "Try using .loc[row_indexer,col_indexer] = value instead\n",
      "\n",
      "See the caveats in the documentation: https://pandas.pydata.org/pandas-docs/stable/user_guide/indexing.html#returning-a-view-versus-a-copy\n",
      "  df1['label'] = df1['review_stars'].map(label_dictionary)\n"
     ]
    }
   ],
   "source": [
    "import re\n",
    "# Create the dictionary \n",
    "label_dictionary ={1 : 1, 2 : 1, 3 : 1,\n",
    "                   4 : 0, 5 : 0} \n",
    "\n",
    "# Add a new column named Label \n",
    "df1['label'] = df1['review_stars'].map(label_dictionary)\n",
    "df2 = df1[['text', 'label']]"
   ]
  },
  {
   "cell_type": "code",
   "execution_count": 137,
   "metadata": {},
   "outputs": [],
   "source": [
    "# A list of contractions from http://stackoverflow.com/questions/19790188/expanding-english-language-contractions-in-python\n",
    "contractions = { \n",
    "\"ain't\": \"am not\",\n",
    "\"aren't\": \"are not\",\n",
    "\"can't\": \"cannot\",\n",
    "\"can't've\": \"cannot have\",\n",
    "\"'cause\": \"because\",\n",
    "\"could've\": \"could have\",\n",
    "\"couldn't\": \"could not\",\n",
    "\"couldn't've\": \"could not have\",\n",
    "\"didn't\": \"did not\",\n",
    "\"doesn't\": \"does not\",\n",
    "\"don't\": \"do not\",\n",
    "\"hadn't\": \"had not\",\n",
    "\"hadn't've\": \"had not have\",\n",
    "\"hasn't\": \"has not\",\n",
    "\"haven't\": \"have not\",\n",
    "\"he'd\": \"he would\",\n",
    "\"he'd've\": \"he would have\",\n",
    "\"he'll\": \"he will\",\n",
    "\"he's\": \"he is\",\n",
    "\"how'd\": \"how did\",\n",
    "\"how'll\": \"how will\",\n",
    "\"how's\": \"how is\",\n",
    "\"i'd\": \"i would\",\n",
    "\"i'll\": \"i will\",\n",
    "\"i'm\": \"i am\",\n",
    "\"i've\": \"i have\",\n",
    "\"isn't\": \"is not\",\n",
    "\"it'd\": \"it would\",\n",
    "\"it'll\": \"it will\",\n",
    "\"u\": \"you\",\n",
    "\"it's\": \"it is\",\n",
    "\"let's\": \"let us\",\n",
    "\"ma'am\": \"madam\",\n",
    "\"mayn't\": \"may not\",\n",
    "\"might've\": \"might have\",\n",
    "\"mightn't\": \"might not\",\n",
    "\"must've\": \"must have\",\n",
    "\"mustn't\": \"must not\",\n",
    "\"needn't\": \"need not\",\n",
    "\"oughtn't\": \"ought not\",\n",
    "\"shan't\": \"shall not\",\n",
    "\"sha'n't\": \"shall not\",\n",
    "\"she'd\": \"she would\",\n",
    "\"she'll\": \"she will\",\n",
    "\"she's\": \"she is\",\n",
    "\"should've\": \"should have\",\n",
    "\"shouldn't\": \"should not\",\n",
    "\"that'd\": \"that would\",\n",
    "\"that's\": \"that is\",\n",
    "\"there'd\": \"there had\",\n",
    "\"there's\": \"there is\",\n",
    "\"they'd\": \"they would\",\n",
    "\"they'll\": \"they will\",\n",
    "\"they're\": \"they are\",\n",
    "\"they've\": \"they have\",\n",
    "\"wasn't\": \"was not\",\n",
    "\"we'd\": \"we would\",\n",
    "\"we'll\": \"we will\",\n",
    "\"we're\": \"we are\",\n",
    "\"we've\": \"we have\",\n",
    "\"weren't\": \"were not\",\n",
    "\"what'll\": \"what will\",\n",
    "\"what're\": \"what are\",\n",
    "\"what's\": \"what is\",\n",
    "\"what've\": \"what have\",\n",
    "\"where'd\": \"where did\",\n",
    "\"where's\": \"where is\",\n",
    "\"who'll\": \"who will\",\n",
    "\"who's\": \"who is\",\n",
    "\"won't\": \"will not\",\n",
    "\"wouldn't\": \"would not\",\n",
    "\"you'd\": \"you would\",\n",
    "\"you'll\": \"you will\",\n",
    "\"you're\": \"you are\"\n",
    "}"
   ]
  },
  {
   "cell_type": "code",
   "execution_count": 138,
   "metadata": {},
   "outputs": [],
   "source": [
    "def clean_text(text, remove_stopwords = True):\n",
    "    '''Remove unwanted characters, stopwords, and format the text to create fewer nulls word embeddings'''\n",
    "    \n",
    "    # Convert words to lower case\n",
    "    text = text.lower()\n",
    "    \n",
    "    # Replace contractions with their longer forms \n",
    "    if True:\n",
    "        text = text.split()\n",
    "        new_text = []\n",
    "        for word in text:\n",
    "            if word in contractions:\n",
    "                new_text.append(contractions[word])\n",
    "            else:\n",
    "                new_text.append(word)\n",
    "        text = \" \".join(new_text)\n",
    "    \n",
    "    # Format words and remove unwanted characters\n",
    "    text = re.sub(r'https?:\\/\\/.*[\\r\\n]*', '', text, flags=re.MULTILINE)\n",
    "    text = re.sub(r'\\<a href', ' ', text)\n",
    "    text = re.sub(r'&amp;', '', text) \n",
    "    text = re.sub(r'[_\"\\-;%()|+&=*%.,!?:#$@\\[\\]/]', ' ', text)\n",
    "    text = re.sub(r'<br />', ' ', text)\n",
    "    text = re.sub(r'\\'', ' ', text)\n",
    "    \n",
    "    # remove stop words\n",
    "    if remove_stopwords:\n",
    "        text = text.split()\n",
    "        stops = set(stopwords.words(\"english\") + list(ENGLISH_STOP_WORDS)+\n",
    "                   ['will', 'still'])\n",
    "        text = [w for w in text if not w in stops]\n",
    "        text = \" \".join(text)\n",
    "\n",
    "    # Tokenize each word\n",
    "    text =  nltk.WordPunctTokenizer().tokenize(text)\n",
    "        \n",
    "    return text"
   ]
  },
  {
   "cell_type": "code",
   "execution_count": 139,
   "metadata": {},
   "outputs": [],
   "source": [
    "df2['Text_Cleaned'] = list(map(clean_text, df2.text))"
   ]
  },
  {
   "cell_type": "code",
   "execution_count": 140,
   "metadata": {},
   "outputs": [
    {
     "data": {
      "text/html": [
       "<div>\n",
       "<style scoped>\n",
       "    .dataframe tbody tr th:only-of-type {\n",
       "        vertical-align: middle;\n",
       "    }\n",
       "\n",
       "    .dataframe tbody tr th {\n",
       "        vertical-align: top;\n",
       "    }\n",
       "\n",
       "    .dataframe thead th {\n",
       "        text-align: right;\n",
       "    }\n",
       "</style>\n",
       "<table border=\"1\" class=\"dataframe\">\n",
       "  <thead>\n",
       "    <tr style=\"text-align: right;\">\n",
       "      <th></th>\n",
       "      <th>text</th>\n",
       "      <th>label</th>\n",
       "      <th>Text_Cleaned</th>\n",
       "    </tr>\n",
       "  </thead>\n",
       "  <tbody>\n",
       "    <tr>\n",
       "      <th>0</th>\n",
       "      <td>I love the empanadas from the Empanadas House!...</td>\n",
       "      <td>0</td>\n",
       "      <td>[love, empanadas, empanadas, house, authentic,...</td>\n",
       "    </tr>\n",
       "    <tr>\n",
       "      <th>1</th>\n",
       "      <td>Delicious delicous declicous!! It is my go-to ...</td>\n",
       "      <td>0</td>\n",
       "      <td>[delicious, delicous, declicous, place, vietne...</td>\n",
       "    </tr>\n",
       "    <tr>\n",
       "      <th>2</th>\n",
       "      <td>As a Vietnamese person, I highly recommend thi...</td>\n",
       "      <td>0</td>\n",
       "      <td>[vietnamese, person, highly, recommend, place,...</td>\n",
       "    </tr>\n",
       "    <tr>\n",
       "      <th>3</th>\n",
       "      <td>Been going to Mi Mi Restaurant for years! I lo...</td>\n",
       "      <td>0</td>\n",
       "      <td>[going, mi, mi, restaurant, years, love, place...</td>\n",
       "    </tr>\n",
       "    <tr>\n",
       "      <th>4</th>\n",
       "      <td>Our go-to place for Vietnamese food! This plac...</td>\n",
       "      <td>0</td>\n",
       "      <td>[place, vietnamese, food, place, frills, crank...</td>\n",
       "    </tr>\n",
       "    <tr>\n",
       "      <th>...</th>\n",
       "      <td>...</td>\n",
       "      <td>...</td>\n",
       "      <td>...</td>\n",
       "    </tr>\n",
       "    <tr>\n",
       "      <th>2627</th>\n",
       "      <td>The meal I was looking forward to the most thi...</td>\n",
       "      <td>0</td>\n",
       "      <td>[meal, looking, forward, trip, teds, teds, pro...</td>\n",
       "    </tr>\n",
       "    <tr>\n",
       "      <th>2628</th>\n",
       "      <td>Well, after living in Phoenix, AZ basically al...</td>\n",
       "      <td>1</td>\n",
       "      <td>[living, phoenix, az, basically, life, finally...</td>\n",
       "    </tr>\n",
       "    <tr>\n",
       "      <th>2629</th>\n",
       "      <td>Great Mexican at a great price. Margaritas are...</td>\n",
       "      <td>0</td>\n",
       "      <td>[great, mexican, great, price, margaritas, awe...</td>\n",
       "    </tr>\n",
       "    <tr>\n",
       "      <th>2630</th>\n",
       "      <td>Got carnitas.. good food, large portions.. ser...</td>\n",
       "      <td>1</td>\n",
       "      <td>[got, carnitas, good, food, large, portions, s...</td>\n",
       "    </tr>\n",
       "    <tr>\n",
       "      <th>2631</th>\n",
       "      <td>I came to this Del Taco and ordered some Tacos...</td>\n",
       "      <td>0</td>\n",
       "      <td>[came, del, taco, ordered, tacos, burrito, tas...</td>\n",
       "    </tr>\n",
       "  </tbody>\n",
       "</table>\n",
       "<p>2632 rows × 3 columns</p>\n",
       "</div>"
      ],
      "text/plain": [
       "                                                   text  label  \\\n",
       "0     I love the empanadas from the Empanadas House!...      0   \n",
       "1     Delicious delicous declicous!! It is my go-to ...      0   \n",
       "2     As a Vietnamese person, I highly recommend thi...      0   \n",
       "3     Been going to Mi Mi Restaurant for years! I lo...      0   \n",
       "4     Our go-to place for Vietnamese food! This plac...      0   \n",
       "...                                                 ...    ...   \n",
       "2627  The meal I was looking forward to the most thi...      0   \n",
       "2628  Well, after living in Phoenix, AZ basically al...      1   \n",
       "2629  Great Mexican at a great price. Margaritas are...      0   \n",
       "2630  Got carnitas.. good food, large portions.. ser...      1   \n",
       "2631  I came to this Del Taco and ordered some Tacos...      0   \n",
       "\n",
       "                                           Text_Cleaned  \n",
       "0     [love, empanadas, empanadas, house, authentic,...  \n",
       "1     [delicious, delicous, declicous, place, vietne...  \n",
       "2     [vietnamese, person, highly, recommend, place,...  \n",
       "3     [going, mi, mi, restaurant, years, love, place...  \n",
       "4     [place, vietnamese, food, place, frills, crank...  \n",
       "...                                                 ...  \n",
       "2627  [meal, looking, forward, trip, teds, teds, pro...  \n",
       "2628  [living, phoenix, az, basically, life, finally...  \n",
       "2629  [great, mexican, great, price, margaritas, awe...  \n",
       "2630  [got, carnitas, good, food, large, portions, s...  \n",
       "2631  [came, del, taco, ordered, tacos, burrito, tas...  \n",
       "\n",
       "[2632 rows x 3 columns]"
      ]
     },
     "execution_count": 140,
     "metadata": {},
     "output_type": "execute_result"
    }
   ],
   "source": [
    "df2"
   ]
  },
  {
   "cell_type": "code",
   "execution_count": 141,
   "metadata": {},
   "outputs": [],
   "source": [
    "#using lemmetization\n",
    "#def lemmatized_words(text):\n",
    "#    lemm = nltk.stem.WordNetLemmatizer()\n",
    "#    df2['lemmatized_text'] = list(map(lambda word:\n",
    "#                                     list(map(lemm.lemmatize, word)),\n",
    "#                                     df2.Text_Cleaned))\n",
    "    \n",
    "\n",
    "#lemmatized_words(df2.Text_Cleaned)"
   ]
  },
  {
   "cell_type": "code",
   "execution_count": 142,
   "metadata": {},
   "outputs": [
    {
     "data": {
      "text/plain": [
       "11520"
      ]
     },
     "execution_count": 142,
     "metadata": {},
     "output_type": "execute_result"
    }
   ],
   "source": [
    "from sklearn.feature_extraction.text import CountVectorizer\n",
    "#Bag of word count method. Relies on word count\n",
    "bow_converter = CountVectorizer(tokenizer=lambda doc: doc, lowercase=False)\n",
    "x = bow_converter.fit_transform(df2['Text_Cleaned'])\n",
    "\n",
    "words = bow_converter.get_feature_names()\n",
    "len(words)"
   ]
  },
  {
   "cell_type": "code",
   "execution_count": 143,
   "metadata": {},
   "outputs": [
    {
     "data": {
      "text/plain": [
       "90906"
      ]
     },
     "execution_count": 143,
     "metadata": {},
     "output_type": "execute_result"
    }
   ],
   "source": [
    "#Bi-gram converter\n",
    "bigram_converter = CountVectorizer(tokenizer=lambda doc: doc, ngram_range=[2,2], lowercase=False) \n",
    "x2 = bigram_converter.fit_transform(df2['Text_Cleaned'])\n",
    "bigrams = bigram_converter.get_feature_names()\n",
    "len(bigrams)"
   ]
  },
  {
   "cell_type": "code",
   "execution_count": 144,
   "metadata": {},
   "outputs": [
    {
     "data": {
      "text/plain": [
       "112044"
      ]
     },
     "execution_count": 144,
     "metadata": {},
     "output_type": "execute_result"
    }
   ],
   "source": [
    "#Tri-gram converter\n",
    "#trigrams[-10:]\n",
    "#trigrams[10:]\n",
    "trigram_converter = CountVectorizer(tokenizer=lambda doc: doc, ngram_range=[3,3], lowercase=False) \n",
    "x3 = trigram_converter.fit_transform(df2['Text_Cleaned'])\n",
    "trigrams = trigram_converter.get_feature_names()\n",
    "len(trigrams)"
   ]
  },
  {
   "cell_type": "code",
   "execution_count": 145,
   "metadata": {},
   "outputs": [
    {
     "name": "stdout",
     "output_type": "stream",
     "text": [
      "11520 90906 112044\n"
     ]
    }
   ],
   "source": [
    "print(len(words), len(bigrams), len(trigrams))"
   ]
  },
  {
   "cell_type": "code",
   "execution_count": 146,
   "metadata": {},
   "outputs": [
    {
     "data": {
      "image/png": "[encoded data removed]",
      "text/plain": [
       "<Figure size 576x360 with 1 Axes>"
      ]
     },
     "metadata": {},
     "output_type": "display_data"
    }
   ],
   "source": [
    "sns.set_style(\"white\")\n",
    "counts = [len(words), len(bigrams), len(trigrams)]\n",
    "plt.plot(counts, color='blue')\n",
    "plt.plot(counts, 'bo')\n",
    "#plt.margins(0.1)\n",
    "plt.ticklabel_format(style = 'plain')\n",
    "plt.xticks(range(3), ['unigram', 'bigram', 'trigram'])\n",
    "plt.tick_params(labelsize=14)\n",
    "plt.title('Number of ngrams', {'fontsize':16})\n",
    "plt.show()"
   ]
  },
  {
   "cell_type": "markdown",
   "metadata": {},
   "source": [
    "## Model Training and Selection"
   ]
  },
  {
   "cell_type": "code",
   "execution_count": 189,
   "metadata": {},
   "outputs": [
    {
     "name": "stderr",
     "output_type": "stream",
     "text": [
      "<ipython-input-189-771bcaef9f5e>:21: SettingWithCopyWarning: \n",
      "A value is trying to be set on a copy of a slice from a DataFrame.\n",
      "Try using .loc[row_indexer,col_indexer] = value instead\n",
      "\n",
      "See the caveats in the documentation: https://pandas.pydata.org/pandas-docs/stable/user_guide/indexing.html#returning-a-view-versus-a-copy\n",
      "  df1['language'] = languages\n"
     ]
    }
   ],
   "source": [
    "business = load_rows('yelp_academic_dataset_business.json',10000)\n",
    "review = load_rows('yelp_academic_dataset_review.json',10000)\n",
    "business = business[business['is_open']==1] #selecting only open restaurants\n",
    "business = business.drop(['hours','is_open','address', 'postal_code', 'attributes', 'review_count',  'city', 'latitude','longitude'], axis=1)\n",
    "#filter for restaurnats\n",
    "business_res = business[business['categories'].str.contains(\n",
    "              'Restaurants',\n",
    "              case=False, na=False)]\n",
    "business_res = business_res.rename(columns={'stars': 'business_stars'})\n",
    "#removing columns that might not be relevant\n",
    "review = review.drop(['useful','user_id','funny', 'cool', 'date'], axis=1)\n",
    "review = review.rename(columns={'stars': 'review_stars'})\n",
    "final = pd.merge(business_res, review, on='business_id', how='inner')\n",
    "\n",
    "#selecting stars and text of reviews\n",
    "df1 = final[['review_stars', 'text']]\n",
    "\n",
    "#We know from past analysis that there is foreign language in this dataset. \n",
    "language = [detect_langs(i) for i in df1.text]\n",
    "languages = [str(i[0]).split(':')[0] for i in language]\n",
    "df1['language'] = languages\n",
    "df1 = df1.loc[df1[\"language\"].isin([\"en\"])]\n",
    "\n",
    "\n",
    "# Create the dictionary \n",
    "label_dictionary ={1 : 1, 2 : 1, 3 : 1,\n",
    "                   4 : 0, 5 : 0} \n",
    "\n",
    "# Add a new column named Label \n",
    "df1['label'] = df1['review_stars'].map(label_dictionary)\n",
    "\n",
    "df2 = df1[['text', 'label']]"
   ]
  },
  {
   "cell_type": "code",
   "execution_count": 190,
   "metadata": {},
   "outputs": [],
   "source": [
    "# A list of contractions from http://stackoverflow.com/questions/19790188/expanding-english-language-contractions-in-python\n",
    "contractions = { \n",
    "\"ain't\": \"am not\",\n",
    "\"aren't\": \"are not\",\n",
    "\"can't\": \"cannot\",\n",
    "\"can't've\": \"cannot have\",\n",
    "\"'cause\": \"because\",\n",
    "\"could've\": \"could have\",\n",
    "\"couldn't\": \"could not\",\n",
    "\"couldn't've\": \"could not have\",\n",
    "\"didn't\": \"did not\",\n",
    "\"doesn't\": \"does not\",\n",
    "\"don't\": \"do not\",\n",
    "\"hadn't\": \"had not\",\n",
    "\"hadn't've\": \"had not have\",\n",
    "\"hasn't\": \"has not\",\n",
    "\"haven't\": \"have not\",\n",
    "\"he'd\": \"he would\",\n",
    "\"he'd've\": \"he would have\",\n",
    "\"he'll\": \"he will\",\n",
    "\"he's\": \"he is\",\n",
    "\"how'd\": \"how did\",\n",
    "\"how'll\": \"how will\",\n",
    "\"how's\": \"how is\",\n",
    "\"i'd\": \"i would\",\n",
    "\"i'll\": \"i will\",\n",
    "\"i'm\": \"i am\",\n",
    "\"i've\": \"i have\",\n",
    "\"isn't\": \"is not\",\n",
    "\"it'd\": \"it would\",\n",
    "\"it'll\": \"it will\",\n",
    "\"it's\": \"it is\",\n",
    "\"let's\": \"let us\",\n",
    "\"ma'am\": \"madam\",\n",
    "\"mayn't\": \"may not\",\n",
    "\"might've\": \"might have\",\n",
    "\"mightn't\": \"might not\",\n",
    "\"must've\": \"must have\",\n",
    "\"mustn't\": \"must not\",\n",
    "\"needn't\": \"need not\",\n",
    "\"oughtn't\": \"ought not\",\n",
    "\"shan't\": \"shall not\",\n",
    "\"sha'n't\": \"shall not\",\n",
    "\"she'd\": \"she would\",\n",
    "\"she'll\": \"she will\",\n",
    "\"she's\": \"she is\",\n",
    "\"should've\": \"should have\",\n",
    "\"shouldn't\": \"should not\",\n",
    "\"that'd\": \"that would\",\n",
    "\"that's\": \"that is\",\n",
    "\"there'd\": \"there had\",\n",
    "\"there's\": \"there is\",\n",
    "\"they'd\": \"they would\",\n",
    "\"they'll\": \"they will\",\n",
    "\"they're\": \"they are\",\n",
    "\"they've\": \"they have\",\n",
    "\"u\": \"you\", #added this from the analysis\n",
    "\"wasn't\": \"was not\",\n",
    "\"we'd\": \"we would\",\n",
    "\"we'll\": \"we will\",\n",
    "\"we're\": \"we are\",\n",
    "\"we've\": \"we have\",\n",
    "\"weren't\": \"were not\",\n",
    "\"what'll\": \"what will\",\n",
    "\"what're\": \"what are\",\n",
    "\"what's\": \"what is\",\n",
    "\"what've\": \"what have\",\n",
    "\"where'd\": \"where did\",\n",
    "\"where's\": \"where is\",\n",
    "\"who'll\": \"who will\",\n",
    "\"who's\": \"who is\",\n",
    "\"won't\": \"will not\",\n",
    "\"wouldn't\": \"would not\",\n",
    "\"you'd\": \"you would\",\n",
    "\"you'll\": \"you will\",\n",
    "\"you're\": \"you are\"\n",
    "}"
   ]
  },
  {
   "cell_type": "code",
   "execution_count": 191,
   "metadata": {},
   "outputs": [],
   "source": [
    "def clean_text(text, remove_stopwords = True):\n",
    "    '''Remove unwanted characters, stopwords, and format the text to create fewer nulls word embeddings'''\n",
    "    \n",
    "    # Convert words to lower case\n",
    "    text = text.lower()\n",
    "    \n",
    "    # Replace contractions with their longer forms \n",
    "    if True:\n",
    "        text = text.split()\n",
    "        new_text = []\n",
    "        for word in text:\n",
    "            if word in contractions:\n",
    "                new_text.append(contractions[word])\n",
    "            else:\n",
    "                new_text.append(word)\n",
    "        text = \" \".join(new_text)\n",
    "    \n",
    "    # Format words and remove unwanted characters\n",
    "    text = re.sub(r'https?:\\/\\/.*[\\r\\n]*', '', text, flags=re.MULTILINE)\n",
    "    text = re.sub(r'\\<a href', ' ', text)\n",
    "    text = re.sub(r'&amp;', '', text) \n",
    "    text = re.sub(r'[_\"\\-;%()|+&=*%.,!?:#$@\\[\\]/]', ' ', text)\n",
    "    text = re.sub(r'<br />', ' ', text)\n",
    "    text = re.sub(r'\\'', ' ', text)\n",
    "    \n",
    "    # remove stop words\n",
    "    if remove_stopwords:\n",
    "        text = text.split()\n",
    "        stops = set(stopwords.words(\"english\") + list(ENGLISH_STOP_WORDS)+\n",
    "                   ['will', 'still'])\n",
    "        text = [w for w in text if not w in stops]\n",
    "        text = \" \".join(text)\n",
    "\n",
    "    # Tokenize each word\n",
    "    text =  nltk.WordPunctTokenizer().tokenize(text)\n",
    "        \n",
    "    return text"
   ]
  },
  {
   "cell_type": "code",
   "execution_count": 192,
   "metadata": {},
   "outputs": [
    {
     "name": "stderr",
     "output_type": "stream",
     "text": [
      "<ipython-input-192-345b2fcdfcfc>:1: SettingWithCopyWarning: \n",
      "A value is trying to be set on a copy of a slice from a DataFrame.\n",
      "Try using .loc[row_indexer,col_indexer] = value instead\n",
      "\n",
      "See the caveats in the documentation: https://pandas.pydata.org/pandas-docs/stable/user_guide/indexing.html#returning-a-view-versus-a-copy\n",
      "  df2['Text_Cleaned'] = list(map(clean_text, df2.text))\n"
     ]
    }
   ],
   "source": [
    "df2['Text_Cleaned'] = list(map(clean_text, df2.text))"
   ]
  },
  {
   "cell_type": "code",
   "execution_count": 193,
   "metadata": {},
   "outputs": [],
   "source": [
    "#Bag of words transformation\n",
    "import sklearn.model_selection\n",
    "training_data, test_data = sklearn.model_selection.train_test_split(df2, train_size = 0.7, random_state=42)"
   ]
  },
  {
   "cell_type": "code",
   "execution_count": 194,
   "metadata": {},
   "outputs": [
    {
     "name": "stdout",
     "output_type": "stream",
     "text": [
      "(1833, 3)\n",
      "(787, 3)\n"
     ]
    }
   ],
   "source": [
    "print(training_data.shape)\n",
    "print(test_data.shape)"
   ]
  },
  {
   "cell_type": "code",
   "execution_count": 195,
   "metadata": {},
   "outputs": [],
   "source": [
    "#bag of words transforming training and test data\n",
    "bow_transform = CountVectorizer(tokenizer=lambda doc: doc, ngram_range=[1,1], lowercase=False)\n",
    "X_tr_bow = bow_transform.fit_transform(training_data['Text_Cleaned']) #training data\n",
    "X_te_bow = bow_transform.transform(test_data['Text_Cleaned']) #test data\n",
    "\n",
    "y_tr = training_data['label']\n",
    "y_te = test_data['label']"
   ]
  },
  {
   "cell_type": "code",
   "execution_count": 196,
   "metadata": {},
   "outputs": [],
   "source": [
    "#Tf-Idf Tranformation\n",
    "from sklearn.feature_extraction import text\n",
    "\n",
    "tfidf_transform = text.TfidfTransformer(norm=None)\n",
    "X_tr_tfidf = tfidf_transform.fit_transform(X_tr_bow) #tfid on training data\n",
    "X_te_tfidf = tfidf_transform.transform(X_te_bow) #tfid on test data"
   ]
  },
  {
   "cell_type": "code",
   "execution_count": 197,
   "metadata": {},
   "outputs": [
    {
     "name": "stdout",
     "output_type": "stream",
     "text": [
      "[[503  32]\n",
      " [102 150]]\n",
      "              precision    recall  f1-score   support\n",
      "\n",
      "           0       0.83      0.94      0.88       535\n",
      "           1       0.82      0.60      0.69       252\n",
      "\n",
      "    accuracy                           0.83       787\n",
      "   macro avg       0.83      0.77      0.79       787\n",
      "weighted avg       0.83      0.83      0.82       787\n",
      "\n",
      "0.829733163913596\n"
     ]
    }
   ],
   "source": [
    "#NaiveBayes with bag of words transformation\n",
    "#This is the best model\n",
    "from sklearn.metrics import classification_report, confusion_matrix, accuracy_score\n",
    "from sklearn.naive_bayes import MultinomialNB\n",
    "\n",
    "nb_classifier = MultinomialNB()\n",
    "nb_classifier.fit(X_tr_bow, y_tr)\n",
    "y_pred = nb_classifier.predict(X_te_bow)\n",
    "\n",
    "print(confusion_matrix(y_te,y_pred))\n",
    "print(classification_report(y_te,y_pred))\n",
    "print(accuracy_score(y_te, y_pred))"
   ]
  },
  {
   "cell_type": "code",
   "execution_count": 168,
   "metadata": {},
   "outputs": [],
   "source": [
    "#Hyperparameter tuning\n",
    "text_clf = Pipeline([\n",
    "    ('vect', CountVectorizer(tokenizer=lambda doc: doc, lowercase=False)),\n",
    "     ('tfidf', TfidfTransformer(norm = None)),\n",
    "     ('clf', MultinomialNB()),\n",
    "])"
   ]
  },
  {
   "cell_type": "code",
   "execution_count": 169,
   "metadata": {},
   "outputs": [],
   "source": [
    "from sklearn.model_selection import GridSearchCV\n",
    "#https://scikit-learn.org/stable/modules/generated/sklearn.naive_bayes.MultinomialNB.html\n",
    "parameters = {\n",
    "     'vect__ngram_range': [(1, 1), (1, 2), (2,2)],\n",
    "     'tfidf__use_idf': (True, False),\n",
    "     #'clf__alpha': (1e-2, 1e-3),\n",
    "    'clf__alpha': np.linspace(0.5, 1.5, 6),\n",
    "    'clf__fit_prior': [True, False],\n",
    "}"
   ]
  },
  {
   "cell_type": "code",
   "execution_count": 170,
   "metadata": {},
   "outputs": [
    {
     "data": {
      "text/plain": [
       "GridSearchCV(estimator=Pipeline(steps=[('vect',\n",
       "                                        CountVectorizer(lowercase=False,\n",
       "                                                        tokenizer=<function <lambda> at 0x1275689d0>)),\n",
       "                                       ('tfidf', TfidfTransformer(norm=None)),\n",
       "                                       ('clf', MultinomialNB())]),\n",
       "             param_grid={'clf__alpha': array([0.5, 0.7, 0.9, 1.1, 1.3, 1.5]),\n",
       "                         'clf__fit_prior': [True, False],\n",
       "                         'tfidf__use_idf': (True, False),\n",
       "                         'vect__ngram_range': [(1, 1), (1, 2), (2, 2)]})"
      ]
     },
     "execution_count": 170,
     "metadata": {},
     "output_type": "execute_result"
    }
   ],
   "source": [
    "gs_clf = GridSearchCV(text_clf, parameters)\n",
    "gs_clf.fit(training_data.Text_Cleaned,y_tr)"
   ]
  },
  {
   "cell_type": "code",
   "execution_count": 171,
   "metadata": {},
   "outputs": [
    {
     "name": "stdout",
     "output_type": "stream",
     "text": [
      "Best Score:  0.8418784711365227\n",
      "Best Params:  {'clf__alpha': 0.9, 'clf__fit_prior': False, 'tfidf__use_idf': False, 'vect__ngram_range': (1, 1)}\n"
     ]
    }
   ],
   "source": [
    "#Hyper parameter tuning\n",
    "print(\"Best Score: \", gs_clf.best_score_)\n",
    "print(\"Best Params: \", gs_clf.best_params_)"
   ]
  },
  {
   "cell_type": "code",
   "execution_count": 198,
   "metadata": {},
   "outputs": [
    {
     "name": "stdout",
     "output_type": "stream",
     "text": [
      "[[495  40]\n",
      " [ 89 163]]\n",
      "              precision    recall  f1-score   support\n",
      "\n",
      "           0       0.85      0.93      0.88       535\n",
      "           1       0.80      0.65      0.72       252\n",
      "\n",
      "    accuracy                           0.84       787\n",
      "   macro avg       0.83      0.79      0.80       787\n",
      "weighted avg       0.83      0.84      0.83       787\n",
      "\n",
      "0.8360864040660737\n"
     ]
    }
   ],
   "source": [
    "#NaiveBayes with bag of words transformation\n",
    "#This is the best model after hyperparameter tuning\n",
    "\n",
    "from sklearn.metrics import classification_report, confusion_matrix, accuracy_score\n",
    "from sklearn.naive_bayes import MultinomialNB\n",
    "\n",
    "nb_classifier = MultinomialNB(alpha = 0.9, fit_prior = False)\n",
    "nb_classifier.fit(X_tr_bow, y_tr)\n",
    "y_pred = nb_classifier.predict(X_te_bow)\n",
    "\n",
    "print(confusion_matrix(y_te,y_pred))\n",
    "print(classification_report(y_te,y_pred))\n",
    "print(accuracy_score(y_te, y_pred))"
   ]
  },
  {
   "cell_type": "code",
   "execution_count": 199,
   "metadata": {},
   "outputs": [
    {
     "name": "stdout",
     "output_type": "stream",
     "text": [
      "[[465  70]\n",
      " [ 92 160]]\n",
      "              precision    recall  f1-score   support\n",
      "\n",
      "           0       0.83      0.87      0.85       535\n",
      "           1       0.70      0.63      0.66       252\n",
      "\n",
      "    accuracy                           0.79       787\n",
      "   macro avg       0.77      0.75      0.76       787\n",
      "weighted avg       0.79      0.79      0.79       787\n",
      "\n",
      "0.7941550190597204\n"
     ]
    }
   ],
   "source": [
    "#NaiveBayes with Tf-Idf Tranformation\n",
    "from sklearn.naive_bayes import MultinomialNB\n",
    "\n",
    "nb_classifier = MultinomialNB()\n",
    "nb_classifier.fit(X_tr_tfidf, y_tr)\n",
    "y_pred = nb_classifier.predict(X_te_tfidf)\n",
    "\n",
    "print(confusion_matrix(y_te,y_pred))\n",
    "print(classification_report(y_te,y_pred))\n",
    "print(accuracy_score(y_te, y_pred))"
   ]
  },
  {
   "cell_type": "code",
   "execution_count": 200,
   "metadata": {},
   "outputs": [
    {
     "name": "stdout",
     "output_type": "stream",
     "text": [
      "[[512  23]\n",
      " [130 122]]\n",
      "              precision    recall  f1-score   support\n",
      "\n",
      "           0       0.80      0.96      0.87       535\n",
      "           1       0.84      0.48      0.61       252\n",
      "\n",
      "    accuracy                           0.81       787\n",
      "   macro avg       0.82      0.72      0.74       787\n",
      "weighted avg       0.81      0.81      0.79       787\n",
      "\n",
      "0.8055908513341804\n"
     ]
    }
   ],
   "source": [
    "#Random Forest with Bag of words transformation\n",
    "from sklearn.ensemble import RandomForestClassifier\n",
    "classifier = RandomForestClassifier(n_estimators=1000, random_state=0)\n",
    "classifier.fit(X_tr_bow, y_tr) \n",
    "y_pred = classifier.predict(X_te_bow)\n",
    "\n",
    "\n",
    "print(confusion_matrix(y_te,y_pred))\n",
    "print(classification_report(y_te,y_pred))\n",
    "print(accuracy_score(y_te, y_pred))"
   ]
  },
  {
   "cell_type": "code",
   "execution_count": 201,
   "metadata": {},
   "outputs": [
    {
     "name": "stdout",
     "output_type": "stream",
     "text": [
      "[[514  21]\n",
      " [132 120]]\n",
      "              precision    recall  f1-score   support\n",
      "\n",
      "           0       0.80      0.96      0.87       535\n",
      "           1       0.85      0.48      0.61       252\n",
      "\n",
      "    accuracy                           0.81       787\n",
      "   macro avg       0.82      0.72      0.74       787\n",
      "weighted avg       0.81      0.81      0.79       787\n",
      "\n",
      "0.8055908513341804\n"
     ]
    }
   ],
   "source": [
    "#Random Forest with Bag of words transformation, increasing n_estimator does not work\n",
    "from sklearn.ensemble import RandomForestClassifier\n",
    "classifier = RandomForestClassifier(n_estimators=3000, random_state=0)\n",
    "classifier.fit(X_tr_bow, y_tr) \n",
    "y_pred = classifier.predict(X_te_bow)\n",
    "\n",
    "\n",
    "print(confusion_matrix(y_te,y_pred))\n",
    "print(classification_report(y_te,y_pred))\n",
    "print(accuracy_score(y_te, y_pred))"
   ]
  },
  {
   "cell_type": "code",
   "execution_count": 202,
   "metadata": {},
   "outputs": [
    {
     "name": "stdout",
     "output_type": "stream",
     "text": [
      "[[512  23]\n",
      " [130 122]]\n",
      "              precision    recall  f1-score   support\n",
      "\n",
      "           0       0.80      0.96      0.87       535\n",
      "           1       0.84      0.48      0.61       252\n",
      "\n",
      "    accuracy                           0.81       787\n",
      "   macro avg       0.82      0.72      0.74       787\n",
      "weighted avg       0.81      0.81      0.79       787\n",
      "\n",
      "0.8055908513341804\n"
     ]
    }
   ],
   "source": [
    "#Random Forest with Tf-idftransformation\n",
    "classifier = RandomForestClassifier(n_estimators=1000, random_state=0)\n",
    "classifier.fit(X_tr_tfidf, y_tr) \n",
    "y_pred = classifier.predict(X_te_tfidf)\n",
    "\n",
    "\n",
    "print(confusion_matrix(y_te,y_pred))\n",
    "print(classification_report(y_te,y_pred))\n",
    "print(accuracy_score(y_te, y_pred))"
   ]
  },
  {
   "cell_type": "code",
   "execution_count": 203,
   "metadata": {},
   "outputs": [
    {
     "name": "stdout",
     "output_type": "stream",
     "text": [
      "[[485  50]\n",
      " [ 75 177]]\n",
      "              precision    recall  f1-score   support\n",
      "\n",
      "           0       0.87      0.91      0.89       535\n",
      "           1       0.78      0.70      0.74       252\n",
      "\n",
      "    accuracy                           0.84       787\n",
      "   macro avg       0.82      0.80      0.81       787\n",
      "weighted avg       0.84      0.84      0.84       787\n",
      "\n",
      "0.841168996188056\n"
     ]
    }
   ],
   "source": [
    "#Logistic Regression with Bag of words transformation\n",
    "from sklearn.linear_model import LogisticRegression\n",
    "\n",
    "log_reg = LogisticRegression()\n",
    "log_reg.fit(X_tr_bow, y_tr) \n",
    "y_pred = log_reg.predict(X_te_bow)\n",
    "\n",
    "\n",
    "print(confusion_matrix(y_te,y_pred))\n",
    "print(classification_report(y_te,y_pred))\n",
    "print(accuracy_score(y_te, y_pred))"
   ]
  },
  {
   "cell_type": "code",
   "execution_count": 204,
   "metadata": {},
   "outputs": [
    {
     "name": "stdout",
     "output_type": "stream",
     "text": [
      "[[489  46]\n",
      " [ 73 179]]\n",
      "              precision    recall  f1-score   support\n",
      "\n",
      "           0       0.87      0.91      0.89       535\n",
      "           1       0.80      0.71      0.75       252\n",
      "\n",
      "    accuracy                           0.85       787\n",
      "   macro avg       0.83      0.81      0.82       787\n",
      "weighted avg       0.85      0.85      0.85       787\n",
      "\n",
      "0.8487928843710292\n"
     ]
    }
   ],
   "source": [
    "#Logistic Regression TF-IDF  transformation\n",
    "from sklearn.linear_model import LogisticRegression\n",
    "\n",
    "log_reg = LogisticRegression()\n",
    "log_reg.fit(X_tr_tfidf, y_tr) \n",
    "y_pred = log_reg.predict(X_te_tfidf)\n",
    "\n",
    "\n",
    "print(confusion_matrix(y_te,y_pred))\n",
    "print(classification_report(y_te,y_pred))\n",
    "print(accuracy_score(y_te, y_pred))"
   ]
  },
  {
   "cell_type": "code",
   "execution_count": 205,
   "metadata": {},
   "outputs": [
    {
     "name": "stdout",
     "output_type": "stream",
     "text": [
      "[[526   9]\n",
      " [154  98]]\n",
      "              precision    recall  f1-score   support\n",
      "\n",
      "           0       0.77      0.98      0.87       535\n",
      "           1       0.92      0.39      0.55       252\n",
      "\n",
      "    accuracy                           0.79       787\n",
      "   macro avg       0.84      0.69      0.71       787\n",
      "weighted avg       0.82      0.79      0.76       787\n",
      "\n",
      "0.7928843710292249\n",
      "[[490  45]\n",
      " [107 145]]\n",
      "              precision    recall  f1-score   support\n",
      "\n",
      "           0       0.82      0.92      0.87       535\n",
      "           1       0.76      0.58      0.66       252\n",
      "\n",
      "    accuracy                           0.81       787\n",
      "   macro avg       0.79      0.75      0.76       787\n",
      "weighted avg       0.80      0.81      0.80       787\n",
      "\n",
      "0.806861499364676\n"
     ]
    }
   ],
   "source": [
    "#bag of words transforming training and test data. Using 2 gram\n",
    "bow_transform = CountVectorizer(tokenizer=lambda doc: doc, ngram_range=[1,2], lowercase=False)\n",
    "X_tr_bow = bow_transform.fit_transform(training_data['Text_Cleaned']) #training data\n",
    "X_te_bow = bow_transform.transform(test_data['Text_Cleaned']) #test data\n",
    "\n",
    "y_tr = training_data['label']\n",
    "y_te = test_data['label']\n",
    "\n",
    "#Tf-Idf Tranformation\n",
    "from sklearn.feature_extraction import text\n",
    "\n",
    "tfidf_transform = text.TfidfTransformer(norm=None)\n",
    "X_tr_tfidf = tfidf_transform.fit_transform(X_tr_bow) #tfid on training data\n",
    "X_te_tfidf = tfidf_transform.transform(X_te_bow) #tfid on test data\n",
    "\n",
    "\n",
    "\n",
    "#NaiveBayes with bag of words transformation\n",
    "from sklearn.naive_bayes import MultinomialNB\n",
    "\n",
    "nb_classifier = MultinomialNB()\n",
    "nb_classifier.fit(X_tr_bow, y_tr)\n",
    "y_pred = nb_classifier.predict(X_te_bow)\n",
    "\n",
    "print(confusion_matrix(y_te,y_pred))\n",
    "print(classification_report(y_te,y_pred))\n",
    "print(accuracy_score(y_te, y_pred))\n",
    "\n",
    "\n",
    "\n",
    "#NaiveBayes with Tf-Idf Tranformation\n",
    "from sklearn.naive_bayes import MultinomialNB\n",
    "\n",
    "nb_classifier = MultinomialNB()\n",
    "nb_classifier.fit(X_tr_tfidf, y_tr)\n",
    "y_pred = nb_classifier.predict(X_te_tfidf)\n",
    "\n",
    "print(confusion_matrix(y_te,y_pred))\n",
    "print(classification_report(y_te,y_pred))\n",
    "print(accuracy_score(y_te, y_pred))"
   ]
  },
  {
   "cell_type": "code",
   "execution_count": 206,
   "metadata": {},
   "outputs": [
    {
     "name": "stdout",
     "output_type": "stream",
     "text": [
      "[[495  40]\n",
      " [151 101]]\n",
      "              precision    recall  f1-score   support\n",
      "\n",
      "           0       0.77      0.93      0.84       535\n",
      "           1       0.72      0.40      0.51       252\n",
      "\n",
      "    accuracy                           0.76       787\n",
      "   macro avg       0.74      0.66      0.68       787\n",
      "weighted avg       0.75      0.76      0.73       787\n",
      "\n",
      "0.7573062261753494\n",
      "[[463  72]\n",
      " [123 129]]\n",
      "              precision    recall  f1-score   support\n",
      "\n",
      "           0       0.79      0.87      0.83       535\n",
      "           1       0.64      0.51      0.57       252\n",
      "\n",
      "    accuracy                           0.75       787\n",
      "   macro avg       0.72      0.69      0.70       787\n",
      "weighted avg       0.74      0.75      0.74       787\n",
      "\n",
      "0.7522236340533672\n"
     ]
    }
   ],
   "source": [
    "#bag of words transforming training and test data. Using 2 gram\n",
    "bow_transform = CountVectorizer(tokenizer=lambda doc: doc, ngram_range=[2,2], lowercase=False)\n",
    "X_tr_bow = bow_transform.fit_transform(training_data['Text_Cleaned']) #training data\n",
    "X_te_bow = bow_transform.transform(test_data['Text_Cleaned']) #test data\n",
    "\n",
    "y_tr = training_data['label']\n",
    "y_te = test_data['label']\n",
    "\n",
    "#Tf-Idf Tranformation\n",
    "from sklearn.feature_extraction import text\n",
    "\n",
    "tfidf_transform = text.TfidfTransformer(norm=None)\n",
    "X_tr_tfidf = tfidf_transform.fit_transform(X_tr_bow) #tfid on training data\n",
    "X_te_tfidf = tfidf_transform.transform(X_te_bow) #tfid on test data\n",
    "\n",
    "\n",
    "\n",
    "#NaiveBayes with bag of words transformation\n",
    "from sklearn.naive_bayes import MultinomialNB\n",
    "\n",
    "nb_classifier = MultinomialNB()\n",
    "nb_classifier.fit(X_tr_bow, y_tr)\n",
    "y_pred = nb_classifier.predict(X_te_bow)\n",
    "\n",
    "print(confusion_matrix(y_te,y_pred))\n",
    "print(classification_report(y_te,y_pred))\n",
    "print(accuracy_score(y_te, y_pred))\n",
    "\n",
    "\n",
    "\n",
    "#NaiveBayes with Tf-Idf Tranformation\n",
    "from sklearn.naive_bayes import MultinomialNB\n",
    "\n",
    "nb_classifier = MultinomialNB()\n",
    "nb_classifier.fit(X_tr_tfidf, y_tr)\n",
    "y_pred = nb_classifier.predict(X_te_tfidf)\n",
    "\n",
    "print(confusion_matrix(y_te,y_pred))\n",
    "print(classification_report(y_te,y_pred))\n",
    "print(accuracy_score(y_te, y_pred))"
   ]
  },
  {
   "cell_type": "code",
   "execution_count": 207,
   "metadata": {},
   "outputs": [
    {
     "name": "stdout",
     "output_type": "stream",
     "text": [
      "[[503  32]\n",
      " [203  49]]\n",
      "              precision    recall  f1-score   support\n",
      "\n",
      "           0       0.71      0.94      0.81       535\n",
      "           1       0.60      0.19      0.29       252\n",
      "\n",
      "    accuracy                           0.70       787\n",
      "   macro avg       0.66      0.57      0.55       787\n",
      "weighted avg       0.68      0.70      0.65       787\n",
      "\n",
      "0.7013977128335451\n",
      "[[473  62]\n",
      " [181  71]]\n",
      "              precision    recall  f1-score   support\n",
      "\n",
      "           0       0.72      0.88      0.80       535\n",
      "           1       0.53      0.28      0.37       252\n",
      "\n",
      "    accuracy                           0.69       787\n",
      "   macro avg       0.63      0.58      0.58       787\n",
      "weighted avg       0.66      0.69      0.66       787\n",
      "\n",
      "0.6912325285895807\n"
     ]
    }
   ],
   "source": [
    "#bag of words transforming training and test data. Using 3 gram\n",
    "bow_transform = CountVectorizer(tokenizer=lambda doc: doc, ngram_range=[3,3], lowercase=False)\n",
    "X_tr_bow = bow_transform.fit_transform(training_data['Text_Cleaned']) #training data\n",
    "X_te_bow = bow_transform.transform(test_data['Text_Cleaned']) #test data\n",
    "\n",
    "y_tr = training_data['label']\n",
    "y_te = test_data['label']\n",
    "\n",
    "#Tf-Idf Tranformation\n",
    "from sklearn.feature_extraction import text\n",
    "\n",
    "tfidf_transform = text.TfidfTransformer(norm=None)\n",
    "X_tr_tfidf = tfidf_transform.fit_transform(X_tr_bow) #tfid on training data\n",
    "X_te_tfidf = tfidf_transform.transform(X_te_bow) #tfid on test data\n",
    "\n",
    "\n",
    "\n",
    "#NaiveBayes with bag of words transformation\n",
    "from sklearn.naive_bayes import MultinomialNB\n",
    "\n",
    "nb_classifier = MultinomialNB()\n",
    "nb_classifier.fit(X_tr_bow, y_tr)\n",
    "y_pred = nb_classifier.predict(X_te_bow)\n",
    "\n",
    "print(confusion_matrix(y_te,y_pred))\n",
    "print(classification_report(y_te,y_pred))\n",
    "print(accuracy_score(y_te, y_pred))\n",
    "\n",
    "\n",
    "\n",
    "#NaiveBayes with Tf-Idf Tranformation\n",
    "from sklearn.naive_bayes import MultinomialNB\n",
    "\n",
    "nb_classifier = MultinomialNB()\n",
    "nb_classifier.fit(X_tr_tfidf, y_tr)\n",
    "y_pred = nb_classifier.predict(X_te_tfidf)\n",
    "\n",
    "print(confusion_matrix(y_te,y_pred))\n",
    "print(classification_report(y_te,y_pred))\n",
    "print(accuracy_score(y_te, y_pred))"
   ]
  },
  {
   "cell_type": "code",
   "execution_count": 208,
   "metadata": {},
   "outputs": [
    {
     "name": "stdout",
     "output_type": "stream",
     "text": [
      "[[503  32]\n",
      " [101 151]]\n",
      "              precision    recall  f1-score   support\n",
      "\n",
      "           0       0.83      0.94      0.88       535\n",
      "           1       0.83      0.60      0.69       252\n",
      "\n",
      "    accuracy                           0.83       787\n",
      "   macro avg       0.83      0.77      0.79       787\n",
      "weighted avg       0.83      0.83      0.82       787\n",
      "\n",
      "0.8310038119440915\n",
      "[[466  69]\n",
      " [ 88 164]]\n",
      "              precision    recall  f1-score   support\n",
      "\n",
      "           0       0.84      0.87      0.86       535\n",
      "           1       0.70      0.65      0.68       252\n",
      "\n",
      "    accuracy                           0.80       787\n",
      "   macro avg       0.77      0.76      0.77       787\n",
      "weighted avg       0.80      0.80      0.80       787\n",
      "\n",
      "0.8005082592121983\n"
     ]
    }
   ],
   "source": [
    "#using Lemetization \n",
    "#bag of words transforming training and test data\n",
    "#using lemmetization\n",
    "def lemmatized_words(text):\n",
    "    lemm = nltk.stem.WordNetLemmatizer()\n",
    "    df2['lemmatized_text'] = list(map(lambda word:\n",
    "                                     list(map(lemm.lemmatize, word)),\n",
    "                                     df2.Text_Cleaned))\n",
    "    \n",
    "\n",
    "lemmatized_words(df2.Text_Cleaned)\n",
    "\n",
    "training_data, test_data = sklearn.model_selection.train_test_split(df2, train_size = 0.7, random_state=42)\n",
    "bow_transform = CountVectorizer(tokenizer=lambda doc: doc, ngram_range=[1,1], lowercase=False)\n",
    "X_tr_bow = bow_transform.fit_transform(training_data['lemmatized_text']) #training data\n",
    "X_te_bow = bow_transform.transform(test_data['lemmatized_text']) #test data\n",
    "\n",
    "y_tr = training_data['label']\n",
    "y_te = test_data['label']\n",
    "\n",
    "#tf-idf\n",
    "tfidf_transform = text.TfidfTransformer(norm=None)\n",
    "X_tr_tfidf = tfidf_transform.fit_transform(X_tr_bow) #tfid on training data\n",
    "X_te_tfidf = tfidf_transform.transform(X_te_bow) #tfid on test data\n",
    "\n",
    "\n",
    "\n",
    "nb_classifier = MultinomialNB()\n",
    "nb_classifier.fit(X_tr_bow, y_tr)\n",
    "y_pred = nb_classifier.predict(X_te_bow)\n",
    "\n",
    "print(confusion_matrix(y_te,y_pred))\n",
    "print(classification_report(y_te,y_pred))\n",
    "print(accuracy_score(y_te, y_pred))\n",
    "\n",
    "\n",
    "\n",
    "nb_classifier = MultinomialNB()\n",
    "nb_classifier.fit(X_tr_tfidf, y_tr)\n",
    "y_pred = nb_classifier.predict(X_te_tfidf)\n",
    "\n",
    "print(confusion_matrix(y_te,y_pred))\n",
    "print(classification_report(y_te,y_pred))\n",
    "print(accuracy_score(y_te, y_pred))"
   ]
  }
 ],
 "metadata": {
  "kernelspec": {
   "display_name": "Python 3",
   "language": "python",
   "name": "python3"
  },
  "language_info": {
   "codemirror_mode": {
    "name": "ipython",
    "version": 3
   },
   "file_extension": ".py",
   "mimetype": "text/x-python",
   "name": "python",
   "nbconvert_exporter": "python",
   "pygments_lexer": "ipython3",
   "version": "3.8.5"
  }
 },
 "nbformat": 4,
 "nbformat_minor": 4
}
